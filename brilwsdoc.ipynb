{
 "cells": [
  {
   "cell_type": "markdown",
   "id": "359d51a8-d0b5-4e92-b38e-c1e822495113",
   "metadata": {},
   "source": [
    "# BRIL Work Suite "
   ]
  },
  {
   "cell_type": "markdown",
   "id": "308ade74-a928-461e-bb35-21330206b3a6",
   "metadata": {},
   "source": [
    "| __[News](http://cms-service-lumi.web.cern.ch/cms-service-lumi/dbrss.xml)__ | __[Releases](http://cms-service-lumi.web.cern.ch/cms-service-lumi/releaserss.xml)__ | __[Docs](http://cms-service-lumi.web.cern.ch/cms-service-lumi/brilwsdocs.html)__ |"
   ]
  },
  {
   "cell_type": "markdown",
   "id": "2f45c34c-1f45-4449-81a6-386366addd2b",
   "metadata": {},
   "source": [
    "<hr>\n",
    "\n",
    "Brilws is a commandline toolkit for CMS Beam Radiation Instrumentation and Luminosity (BRIL) project. It is delivered as a docker image or as a standalone client of the BRIL Python Environment (Brilconda). Brilconda is a custom build of the Anaconda/Mambaforge distribution which contains python packages used by BRIL such as PyROOT, matplotlib, pytables etc.  \n",
    "\n",
    "There is NO requirement on the PYTHONPATH nor LD_LIBRARY_PATH to envoke the software.\n",
    "The release cycle of the python envrionment is much longer than the brilws toolkit.\n",
    "\n",
    "</hr>"
   ]
  },
  {
   "cell_type": "markdown",
   "id": "2545ae88-81d2-4f6d-bf5c-8f1dd9ed43f9",
   "metadata": {},
   "source": [
    "<a id='top'></a>\n",
    "## Documentation for release 3.8.x"
   ]
  },
  {
   "cell_type": "markdown",
   "id": "4e956db5-4775-4b24-86a7-4265e22c9cdf",
   "metadata": {},
   "source": [
    "### Table Of Contents:\n",
    "\n",
    "1. [Brilws docker image](#quickstart)\n",
    "1. [BRIL Python environment Brilconda](#brilconda)\n",
    "1. [Set up brilws toolkit](#clientsetup)\n",
    "1. [Offsite-access](#offsite) \n",
    "1. [Command Structure](#commandstructure)\n",
    "1. [brilcalc command](#brilcalc)\n",
    "     * [lumi](#brilcalclumi)\n",
    "     * [beam](#brilcalcbeam)     \n",
    "     * [trg](#brilcalctrg)    \n",
    "1. [briltag command](#briltag) \n",
    "     * [listiov](#briltaglistiov)\n",
    "     * [insertiov](#briltaginsertiov)\n",
    "     * [listdata](#briltaglistdata)\n",
    "     * [insertdata](#briltaginsertdata)   \n",
    "1. [Appendix A : trigger rules](#triggerrules)\n",
    "\n",
    "<a id='top'></a>"
   ]
  },
  {
   "cell_type": "markdown",
   "id": "70ba7503-cfcf-470f-8847-ea66a899b360",
   "metadata": {},
   "source": [
    "<a id='quickstart'></a>\n",
    "### Brilws docker image\n",
    "For a lean user experience of brilws on CERN lxplus hosts one can use the docker image maintained by LumiPOG. Instructions see https://twiki.cern.ch/twiki/bin/viewauth/CMS/BrilcalcQuickStart#Getting_started_without_requirin\n",
    "\n",
    "If you choose the docker image method, you can skip reading the sections below and go directly to the [Off-site](#offsite) section."
   ]
  },
  {
   "cell_type": "markdown",
   "id": "afd310a5-0cf3-4a5f-b821-4c48ceebfa5e",
   "metadata": {},
   "source": [
    "<a id='brilconda'></a>\n",
    "### BRIL Python environment Brilconda "
   ]
  },
  {
   "cell_type": "markdown",
   "id": "22ba247e-26d5-4b7b-9caf-f333b2884bb5",
   "metadata": {},
   "source": [
    "Brilconda working environment can be accessed via a central installation on /cvmfs/cms-bril.cern.ch and on /nfshome0 (P5) or via a private installation.\n",
    "\n",
    "Brilconda is activated whenever its bin directory is in the **\\$PATH**, and disactivated when the bin directory is not present in the **\\$PATH** . \n",
    "\n",
    "The virtual environment contains all scientific packages needed by BRIL. To get the full list of the packages use the following command:\n",
    "```\n",
    "conda list\n",
    "```\n",
    "\n",
    "#### Centrally installed Brilconda location\n",
    "    \n",
    " * cvmfs  :  /cvmfs/cms-bril.cern.ch/brilconda3 (python3)\n",
    "    \n",
    "Note: the cvmfs mount is on-demand. It does not appear unless specifically accessed.\n",
    "\n",
    " * bril online cluster : /nfshome0/lumipro/brilconda3 (python3)\n",
    "                             \n",
    "#### Install Brilconda locally\n",
    "\n",
    "Users can choose to install the Brilconda environment privately for more control. Standalone installers are provided for Linux and MacOSX. \n",
    "\n",
    " * *Linux-x86_64 with installer*\n",
    " \n",
    "    ```\n",
    "     wget https://cern.ch/cmslumisw/installers/linux-64/Brilconda-3.3.0-0-Linux-x86_64.sh   \n",
    "\n",
    "     bash Brilconda-3.3.0-0-Linux-x86_64.sh -b -p <localbrilcondabase>\n",
    "    ```\n",
    "    <br>\n",
    "\n",
    " * *MacOS-64 with installer*\n",
    "    \n",
    "    ```\n",
    "     wget https://cern.ch/cmslumisw/installers/macos-64/Brilconda-3.3.0-0-MacOSX-x86_64.sh\n",
    "\n",
    "     bash Brilconda-3.3.0-0-MacOSX-x86_64.sh -b -p <localbrilcondabase>\n",
    "    ```\n"
   ]
  },
  {
   "cell_type": "markdown",
   "id": "b1e79f56-90aa-4822-98a1-0744a49d0951",
   "metadata": {},
   "source": [
    "<a id='clientsetup'></a>\n",
    " ### Set up brilws toolkit"
   ]
  },
  {
   "attachments": {},
   "cell_type": "markdown",
   "id": "3e20a3be-b45c-442f-b535-ef84665f9c16",
   "metadata": {},
   "source": [
    "#### Install\n",
    "\n",
    "Make sure the prerequisite is fullfilled and the pip command comes from brilconda environment you are going to use.\n",
    "\n",
    "**cern**\n",
    "```\n",
    "    pip install --user brilws\n",
    "```\n",
    "\n",
    "**online**\n",
    "```\n",
    "    pip install --no-index --find-links=:///nfshome/lumipro/installers/linux-64 --user brilws\n",
    "```\n",
    "\n",
    "**into a private brilconda**\n",
    "```\n",
    "    pip install brilws\n",
    "```"
   ]
  },
  {
   "attachments": {},
   "cell_type": "markdown",
   "id": "262a173a-f94f-4041-8e4b-3655b62bec67",
   "metadata": {},
   "source": [
    "#### Uninstall\n",
    "\n",
    "```\n",
    "    pip uninstall brilws\n",
    "```"
   ]
  },
  {
   "cell_type": "markdown",
   "id": "6f259ff7-355b-4d1c-831f-c308b0f0be1b",
   "metadata": {},
   "source": [
    "#### Install a specific version\n",
    "Use the **==** operator after the package name to specify the version. "
   ]
  },
  {
   "cell_type": "markdown",
   "id": "0d8c79ec-3d0b-41bc-81cc-c6c6d162e0a4",
   "metadata": {},
   "source": [
    "#### Check installed version \n",
    "```\n",
    "    pip show brilws\n",
    "``` "
   ]
  },
  {
   "cell_type": "markdown",
   "id": "2542fdc5-f2c0-404e-9c99-ba71b6e3b3ba",
   "metadata": {},
   "source": [
    "#### Set up environment"
   ]
  },
  {
   "cell_type": "markdown",
   "id": "7b0ec461-a835-46ea-abb3-c21fb50f4b91",
   "metadata": {},
   "source": [
    "1.  work under the central Brilconda installation /cvmfs/cms-bril.cern.ch:\n",
    "    ```\n",
    "    export PATH=$HOME/.local/bin:/cvmfs/cms-bril.cern.ch/brilconda3/bin:$PATH (bash)\n",
    "    ``` \n",
    "    \n",
    "1.  work under the central Brilconda installation in .cms\n",
    "    ```\n",
    "    export PATH=$HOME/.local/bin:/nfshome0/lumipro/brilconda3/bin:$PATH    (bash)\n",
    "    ```\n",
    "    \n",
    "1.  work under a private installation of Brilconda\n",
    "    ```\n",
    "    export PATH=<brilcondabasedir>/bin:$PATH       (bash)\n",
    "    ```\n",
    "    \n",
    "Note: the **\\$PATH** requirement must be fullfilled for the **shell** from which the brilws and pip commands run. Be aware that external scripts, e.g. cmsenv.sh, alter the **\\$PATH** environment, users should make sure the environment is as above **at the moment of** running the brilws and pip commands."
   ]
  },
  {
   "cell_type": "markdown",
   "id": "170522f8-8d29-446c-94c3-7e5a50a8563c",
   "metadata": {},
   "source": [
    "<a id='offsite'></a>\n",
    "### Off-site access "
   ]
  },
  {
   "cell_type": "markdown",
   "id": "949c464c-712d-41cd-b0f6-5d31b14f9325",
   "metadata": {},
   "source": [
    "BRIL tools analyse data in the database server at CERN which is closed to the outside. Therefore the most convienient way is to run the toolkit on hosts (private or public) at CERN. If you must use the software installed outside the CERN intranet, a ssh tunnel to the database server at CERN has to be established first. Since the tunneling procedure requires a valid cern computer account, a complete unregistered person will not be able to access the BRIL data in any case. \n",
    "\n",
    "The following instruction assumes the easiest setup: you have **two** open sessions on the same off-site host, e.g. cmslpc32.fnal.gov, one for the ssh tunnel and another for execution. It is also assumed that all the software are installed and the $PATH variable set correctly on the execution shell.\n"
   ]
  },
  {
   "cell_type": "markdown",
   "id": "57c959a4-3c1f-4074-8b34-a2d85e394cfd",
   "metadata": {},
   "source": [
    "#### ssh tunneling session\n",
    "\n",
    "```\n",
    "    ssh -N -L 10121:itrac5117-v.cern.ch:10121 <cernusername>@lxplus.cern.ch\n",
    "```\n",
    "\n",
    "Provide you cern account password and the tunnel will kept open without getting back the shell prompt.\n",
    "\n",
    "#### open an execution session on the same host that has the ssh tunnel\n",
    "\n",
    "```\n",
    "    brilcalc lumi -c offsite -r 281636\n",
    "```\n",
    "Run bril tools with connection string **-c offsite**. "
   ]
  },
  {
   "cell_type": "markdown",
   "id": "343cb563-0ae6-455c-afd3-cac9d60a3b90",
   "metadata": {},
   "source": [
    "<div class=\"warn cell\">\n",
    "<strong>Note:</strong> the -c <strong>offsite</strong> parameter is supported only with release version >=2.2.0. \n",
    "</div>\n",
    "<!--p>\n",
    "**Link**: [knowledge base for oracle access from outside CERN intranet](https://cern.service-now.com/service-portal/article.do?n=KB0004111)\n",
    "<p-->"
   ]
  },
  {
   "cell_type": "markdown",
   "id": "ae986cbb-a414-49bc-b481-9472eee59a40",
   "metadata": {},
   "source": [
    "<a id='web cache access'></a>\n",
    "### web-cache access \n",
    "In addition to online, offline, on-site and off-site access to bril database server, indirect access\n",
    "via web cache is also supported for bril tools (read-only). Specificlly, web cache refers to the \n",
    "frontier/squid infrastructure available for all CMS sites. (It is also possible to have your own private setup.) \n",
    "\n",
    "Using web cache access allows queries and results to be cached close to you therefore reducing the overall load on the database server at CERN. It is much faster to get already cached results. Another convenience is that accessing data from outside the CERN firewall does not require ssh tunnels in this case. "
   ]
  },
  {
   "cell_type": "markdown",
   "id": "bfa1c7e9-a9a5-4b4c-9a18-e78c2881f5e6",
   "metadata": {},
   "source": [
    "#### use the cache server at CERN\n",
    "Option **-c web** directs you to the web cache server at CERN **cmsfrontier.cern.ch:8000/LumiCalc**. e.g.\n",
    "```\n",
    "brilcalc lumi -c web -r 284077\n",
    "```"
   ]
  },
  {
   "cell_type": "markdown",
   "id": "e488068a-8529-433a-8027-ab9aecef1a56",
   "metadata": {},
   "source": [
    "#### use other cache server close to you with site-local-config.xml\n",
    "Option **```-c <config file>```** allows you to use the web cache most conveniently located and configured.\n",
    "\n",
    "The configuration file can be found at each CMS site, it is normally called as \"site-local-config.xml\".\n",
    "You can use it as it is or use it as a starting example to build your own configuration:\n",
    "\n",
    "```\n",
    "brilcalc lumi -r 284077 -c /afs/cern.ch/cms/SITECONF/CERN/JobConfig/site-local-config.xml\n",
    "```\n",
    "\n",
    "To build custom cache config xml, only contents enclosed in the ```<frontier-connect>``` tag are required by the bril tool, all other tags are ignored: e.g.\n",
    "```\n",
    "    more /home/me/mycache.xml\n",
    "\n",
    "    <frontier-connect>\n",
    "       <proxy url=\"http://cmst0frontier.cern.ch:3128\"/>\n",
    "       <proxy url=\"http://cmst0frontier.cern.ch:3128\"/>\n",
    "       <proxy url=\"http://cmst0frontier1.cern.ch:3128\"/>\n",
    "       <proxy url=\"http://cmst0frontier2.cern.ch:3128\"/>\n",
    "       <server url=\"http://cmsfrontier.cern.ch:8000/FrontierInt\"/>\n",
    "       <server url=\"http://cmsfrontier.cern.ch:8000/FrontierInt\"/>\n",
    "       <server url=\"http://cmsfrontier1.cern.ch:8000/FrontierInt\"/>\n",
    "       <server url=\"http://cmsfrontier2.cern.ch:8000/FrontierInt\"/>\n",
    "       <server url=\"http://cmsfrontier3.cern.ch:8000/FrontierInt\"/>\n",
    "       <server url=\"http://cmsfrontier4.cern.ch:8000/FrontierInt\"/>\n",
    "    </frontier-connect>\n",
    "\n",
    "brilcalc lumi -r 284077 -c /home/me/mycache.xml\n",
    "```\n",
    "\n",
    "Note: if you are working inside the .cms network at P5, you can not use the web cache access method. "
   ]
  },
  {
   "cell_type": "markdown",
   "id": "89db0f12-0168-46b9-9e22-034d976b73b9",
   "metadata": {},
   "source": [
    "<a id='commandstructure'></a>\n",
    "### Commandline structure"
   ]
  },
  {
   "cell_type": "markdown",
   "id": "211af3d6-a5f5-4319-b0f9-41c96168224a",
   "metadata": {},
   "source": [
    "The commandlines are made of main and sub commands. Each subcommand have its independent help menus. For example, brilcalc lumi -h, where brilcalc is the main command, lumi is the subcommand.\n",
    "\n",
    "```\n",
    "brilcalc -h\n",
    "```\n",
    "\n",
    "```\n",
    "briltag -h\n",
    "```\n",
    "\n",
    "```\n",
    "brilcalc lumi -h\n",
    "```\n",
    "\n",
    "```\n",
    "brilcalc beam -h\n",
    "```\n",
    "\n",
    "```\n",
    "brilcalc trg -h\n",
    "```"
   ]
  },
  {
   "cell_type": "markdown",
   "id": "ffccf0de-493f-4563-afd0-6d52596c0eb6",
   "metadata": {},
   "source": [
    "<a id='brilcalc'></a>\n",
    "### brilcalc command"
   ]
  },
  {
   "cell_type": "markdown",
   "id": "884fc96f-95b7-40a5-9d97-43c569751880",
   "metadata": {},
   "source": [
    "<a id='common options'></a>\n",
    "#### <span style=\"color:#6699CC\">*common brilcalc options*</span>\n",
    "\n",
    "There are four categories of common command options: selection, filter, output and display, database connection  "
   ]
  },
  {
   "cell_type": "markdown",
   "id": "78aa8c98-4d25-4503-98a3-90452d7c8271",
   "metadata": {},
   "source": [
    "* Selections: select on input lumi section, run, fill number or begin/end time in terms of UTC time or fill/run number. These selections can overlap. "
   ]
  },
  {
   "cell_type": "markdown",
   "id": "7ca9bcbd-a3a2-49a9-8556-89aea70e1d0d",
   "metadata": {},
   "source": [
    "<div class=\"cmdlines cell\">\n",
    "    <p><strong>-i INPUTSELECTION : </strong> input lumi section selection file or string format \n",
    "    {run:[[startls,stopls],[startls,stopls],...]} \n",
    "   \n",
    "   </p>\n",
    "   <p>\n",
    "    In the string input, the whole string should be quoted not the run number, e.g. \"{123456:[[1,4][6,19]]}\". In the file input, the run number field must be quoted. \n",
    "   </p>\n",
    "   <p> \n",
    "    By default, the command checks the lumi sections specified by the -i option against those actually returned as result and print out the list of mismatches. This feature can be switched off with <b>--without-checkjson</b>.\n",
    "    </p>    \n",
    "    <p><strong>--begin BEGIN :</strong> UTC time stamp MM/DD/YY HH24:MI:SS, fill or run number of the beginning lumi section\n",
    "    </p>\n",
    "    <p><strong>--end END : </strong>UTC time stamp MM/DD/YY HH24:MI:SS, fill or run number of the ending lumi section\n",
    "    </p>\n",
    "    <p><strong>-f FILLNUM :</strong> fill number\n",
    "    </p>\n",
    "    <p><strong>-r RUNNUM :</strong> run number\n",
    "    </p>\n",
    "</div>"
   ]
  },
  {
   "cell_type": "markdown",
   "id": "8d1dccd6-9e4f-4928-8c83-fca05f980596",
   "metadata": {},
   "source": [
    "* Filters: Filter on the result"
   ]
  },
  {
   "cell_type": "markdown",
   "id": "0f407d24-a49b-4d30-b70a-396f4edc835c",
   "metadata": {},
   "source": [
    "<div class=\"cmdlines cell\">   \n",
    "    <p><strong>-b BEAMSTATUS : </strong> filter on beam status. Choices [\"STABLE BEAMS\", \"FLAT TOP\",\"ADJUST\",\"SQUEEZE\"]\n",
    "    </p>\n",
    "    <p><strong>--amodetag AMODETAG : </strong> filter on machine mode. Choices [\"PROTPHYS\",\"IONPHYS\", \"PAPHYS\"]\n",
    "    </p>\n",
    "    <p><strong>--beamenergy BEAMENERGY : </strong> filter on target single beam energy in GeV. e.g. 1650\n",
    "    </p>\n",
    "</div>"
   ]
  },
  {
   "cell_type": "markdown",
   "id": "29b257e7-99e1-425d-8bf8-f0a85bb5ee26",
   "metadata": {},
   "source": [
    "*  Output and Display"
   ]
  },
  {
   "cell_type": "markdown",
   "id": "a65de3ea-ba94-4ae5-a789-eabcbbd37b5e",
   "metadata": {},
   "source": [
    "<div class=\"cmdlines cell\">\n",
    "   \n",
    "   <strong>-o OUTPUTFILE : </strong> output csv file. \"-\" is the special file stdout. This file output has precedence over the screen display.    \n",
    "   <strong>--output-style OUTPUT STYLE : </strong> output style on screen. Choices [\"tab\",\"csv\",\"html\"]. This option has no effect if there is already -o option.      \n",
    "   <strong>-n SCALEFACTOR : </strong> apply the scalefactor 1./n to the output. Contrary to older releases, it does NOT automatically change the output luminosity unit.     \n",
    "   <strong>--cerntime : </strong> switch to display result time field in cern local time. This switch has no effect on the input time.    \n",
    "   <strong>--tssec : </strong> switch to display result time field in unix timestamp.   \n",
    "   </div>"
   ]
  },
  {
   "cell_type": "markdown",
   "id": "965f8f3d-cc93-4e0f-910f-77250e084cf6",
   "metadata": {},
   "source": [
    "*  Database connection"
   ]
  },
  {
   "cell_type": "markdown",
   "id": "9f0b4575-f7e9-449f-bdca-85f4b6b4721d",
   "metadata": {},
   "source": [
    "Reasonable default parameters are given, readonly users do not need to specify these options."
   ]
  },
  {
   "cell_type": "markdown",
   "id": "654987b1-85bf-4d3f-b767-346a9600bb83",
   "metadata": {},
   "source": [
    "<div class=\"cmdlines cell\">\n",
    "   <strong>-c CONNECTION : </strong> database service to connect to. Example choices [\"offline\",\"online\",\"onlinew\",\"dev\"]. The default is \"offline\".\n",
    "    \n",
    "   <strong>-p AUTHFILE : </strong> database authentication file. Normal readonly users do not need to specify this option.\n",
    "</div>"
   ]
  },
  {
   "cell_type": "markdown",
   "id": "fd8d3785-7a7e-4ba6-8090-fd3246af4346",
   "metadata": {},
   "source": [
    "<a id='brilcalclumi'></a>\n",
    "#### <span style=\"color:#6699CC\">*lumi subcommand*</span>"
   ]
  },
  {
   "cell_type": "markdown",
   "id": "38251dd0-6f74-4ddc-8247-53ddafb3e7f7",
   "metadata": {},
   "source": [
    "Subcommand **lumi** shows luminosity values measured by BRIL. By default, i.e. without --type or --normtag options, the summary of the best known luminosity from online is shown. Switches and options specific to the subcommand are explained below."
   ]
  },
  {
   "cell_type": "markdown",
   "id": "86bfdd6e-158d-44cc-9975-ce21ccc861b3",
   "metadata": {},
   "source": [
    "##### --filedata FILEDATA option"
   ]
  },
  {
   "cell_type": "markdown",
   "id": "19a69b5d-b7a4-4b83-a1f9-7ecabe0d99fa",
   "metadata": {},
   "source": [
    "\n",
    "Raw data can be fetched from files and combined with other data from database to produce calibrated luminosity results. When using input from files, database connection parameters, implicitly or explicitly given, are still required. This option is an extention rather than a replacement of the general database connection options. \n",
    "\n",
    "Results will have the same granularity as that of the input. If inputs from files are in lumi-section, then the output is per LS, if inputs are in NB4, then output is on NB4. Since the NB4 granularity is 16 times larger than the LS granularity, this option should be used on small data sets, for example, those on VDM scans.  \n",
    "\n",
    "The input parameter can be either a directory or a single file. The input files must be in hdf5 format and contain at least the BRIL \"tcds\" table. \n",
    "\n",
    "The file input option works only together with --byls or --byls --xing. And the output luminosity unit is fixed hz/ub. Using option -u will not change the output unit.\n",
    "\n",
    "In this case, because the output is instantaneous luminosity and the integration time is unknown a priori by the software, the summary sum table cannot be calculated therefore will not be displayed at the end with this option.\n"
   ]
  },
  {
   "cell_type": "markdown",
   "id": "4131c6d8-16bb-449b-9ec0-aa6ce217e770",
   "metadata": {},
   "source": [
    "##### --byls switch\n",
    "  \n",
    "Show luminosity and  average pileup by lumi section. "
   ]
  },
  {
   "cell_type": "markdown",
   "id": "856dfd52-9f4b-41db-bf8a-51f54713d16d",
   "metadata": {},
   "source": [
    "##### --xing switch\n",
    "Show luminosity by lumi section and per bunch crossing. The bxidx field of the output has the range of [1,3564]. More often not all 3564 possible bunches are interesting. Three filters can be specified with this switch to reduce the total output. The filters can be applied accumulatively."
   ]
  },
  {
   "cell_type": "markdown",
   "id": "26f80292-ce3f-40a3-8209-e994fadc6daf",
   "metadata": {},
   "source": [
    "* Bunch filters specific to --xing switch"
   ]
  },
  {
   "cell_type": "markdown",
   "id": "e7b7816b-ed4c-4298-a383-8020a8c10053",
   "metadata": {},
   "source": [
    "<div class=\"cmdlines cell\">\n",
    "   \n",
    "   <p><strong>--xingId BXID : </strong> select bunch by id. Input can be a single number, a comma separated list in file or string format. e.g. --xingId \"1,2,3\"\n",
    "   </p>\n",
    "   <p><strong>--xingTr BXTHRESHOLD : </strong> select bunch with luminosity above the specified fraction of the max bx lumi. Input is a float number between 0 and 1. e.g. 0.85. \n",
    "   </p>    \n",
    "   <p><strong>--xingMin XINGMIN :</strong> select bunch with luminosity greater than the specified value. Note: any scaling effect from -n or -u options are already taken into account. The specified min value cut is applied to the final number.\n",
    "   </p>\n",
    "</div>"
   ]
  },
  {
   "cell_type": "markdown",
   "id": "79d608b6-6b88-452c-8d09-7dacb61d909f",
   "metadata": {},
   "source": [
    "<div class=\"warn cell\">\n",
    "<strong>Note:</strong> for better performance, it is strongly recommended to use -o OUTPUTFILE or --output-style csv for the **--xing** option. Because in the case of csv output (to file or to screen), the result is streamed out without waiting for the whole display table instance to be fully collected.\n",
    "</div>"
   ]
  },
  {
   "cell_type": "markdown",
   "id": "801a380f-147d-411a-8dcc-ee319e424196",
   "metadata": {},
   "source": [
    "##### --normtag NORMTAG option"
   ]
  },
  {
   "cell_type": "markdown",
   "id": "56225e38-aef4-4863-95e5-348193e45df0",
   "metadata": {},
   "source": [
    "Apply calibration/correction function defined by a tag. Each norm tag is bound to a specific luminometer. By using the tag, you have automatically selected a luminometer.\n",
    "\n",
    "When selecting data from a combination of luminometers, a json format file or string is accepted (specified below). In this case, both -i and --normtag options can select run and lumi sections. When both given, the **intersection** of the two are used. Also, it is required that --normtag selection is a superset of the -i selection. On failing this check, warning messages will be printed but the program continues. "
   ]
  },
  {
   "cell_type": "markdown",
   "id": "0a8744c1-ffab-4186-9538-67c90e342908",
   "metadata": {},
   "source": [
    "The composite selection is a list of lists as described below:\n",
    "\n",
    "<pre>\n",
    "  [\n",
    "    [normtag,{run:[[startls,stopls],[startls,stopls]...]} | run, run, ... ], \n",
    "    [normtag,{run:[[startls,stopls],[startls,stopls]...]} | run, run, ... ], \n",
    "    ...\n",
    "  ]\n",
    "</pre>\n",
    "  Run, ls selection matrices follow each normtag in which the chosen lumi sections are valid. \n",
    " \n",
    "  Here \"|\" means \"or\". Flat format of the inner list [normtag, run, run,...] is a shortcut to indicate that all lumi sections in the run are selected. Internally each run number string is translated to {run:[[1,999999]]}.\n",
    "Example below:\n",
    "\n",
    "<pre>\n",
    "  [ [\"bcm1fv1\",{\"251118\":[[1,20]]}],\n",
    "    [\"hfocv1\",{\"251118\":[[21,21]]}],\n",
    "    [\"bcm1fv1\",{\"251118\":[[22,24]]}],\n",
    "    [\"bcm1fv1\",\"251119\",\"251131\"],\n",
    "    [\"hfocv1\",\"251134\"],\n",
    "    [\"bcm1fv1\",\"251167\"],\n",
    "    [\"hfocv1\",\"251168\"]\n",
    "  ]\n",
    "</pre>\n",
    "\n",
    "  When this type of selection file is given --type argument has no more effects.\n",
    "\n",
    "  The same rules apply for quoting as with -i : when in file, **key** fields and **string** fields must be quoted. While as string input, the entire string should be quoted.   "
   ]
  },
  {
   "cell_type": "markdown",
   "id": "bdd6d73a-6c98-4682-9398-d9a7066736d3",
   "metadata": {},
   "source": [
    "##### -u UNIT option"
   ]
  },
  {
   "cell_type": "markdown",
   "id": "753287de-4f26-4291-b0c0-230bc2cdeef8",
   "metadata": {},
   "source": [
    "Show luminosity in the specified unit and scale the output value accordingly. Recognised unit strings are\n",
    "<pre>\n",
    "/kb , 1e21/cm2 , hz/kb , 1e21/cm2s\n",
    "/b  , 1e24/cm2 , hz/b  , 1e24/cm2s\n",
    "/mb , 1e27/cm2 , hz/mb , 1e27/cm2s\n",
    "/ub , 1e30/cm2 , hz/ub , 1e30/cm2s\n",
    "/nb , 1e33/cm2 , hz/nb , 1e33/cm2s\n",
    "/pb , 1e36/cm2 , hz/pb , 1e36/cm2s\n",
    "/fb , 1e39/cm2 , hz/fb , 1e39/cm2s\n",
    "/ab , 1e42/cm2 , hz/ab , 1e42/cm2s\n",
    "</pre>"
   ]
  },
  {
   "cell_type": "markdown",
   "id": "55bb5063-ac30-466e-9527-6b78af166f23",
   "metadata": {},
   "source": [
    "##### --type LUMITYPE option"
   ]
  },
  {
   "cell_type": "markdown",
   "id": "3ff53235-bdbd-4d1e-a782-e07701977efc",
   "metadata": {},
   "source": [
    "Show results from the selected luminometer. Current available choices are hfoc,hfet,bcm1f,bcm1fsi,bcm1futca,pltzero,pltslink,dt,pxl,ramses,radmon. \n",
    "\n",
    "This option can be skipped if --normtag is specified because every norm tag is bound to a specific luminometer. If option --normtag is present, then --type is ignored.\n",
    "\n",
    "Option --type is **required** if **--without-correction** switch is specified."
   ]
  },
  {
   "cell_type": "markdown",
   "id": "6cf26f55-93c4-4f46-b696-09e60f08a375",
   "metadata": {},
   "source": [
    "##### --without-correction switch"
   ]
  },
  {
   "cell_type": "markdown",
   "id": "200cd76d-bccc-424b-93dd-739562aa63ed",
   "metadata": {},
   "source": [
    "Show raw data taken by a specific luminometer. --type LUMITYPE must be provided if this switch is specified."
   ]
  },
  {
   "cell_type": "markdown",
   "id": "6b85429e-be2d-4b3c-acfc-41490d9fd31d",
   "metadata": {},
   "source": [
    "##### --datatag DATATAG option"
   ]
  },
  {
   "cell_type": "markdown",
   "id": "83f5bd87-37ef-4e04-b62a-f0a3fe84b67b",
   "metadata": {},
   "source": [
    "A specific version of lumi and beam data. The initial datatag \"online\" is guaranteed to exist. Other data tags are the patches to its previous version. If not specified, the most recent datatag, i.e. the best version of data, is used.\n",
    "\n",
    "Trigger related data are summary copies of trigger databases, they are not versioned."
   ]
  },
  {
   "cell_type": "markdown",
   "id": "b54162e4-984e-4cce-b72b-86b5e1a3cb24",
   "metadata": {},
   "source": [
    "##### --precision PRECISION option"
   ]
  },
  {
   "cell_type": "markdown",
   "id": "2e9f2088-284f-46e0-aeda-6809dd73926b",
   "metadata": {},
   "source": [
    "Define the luminosity value output format and precision. The format string can be \"[0-9]f\" or \"[0-9]e\". The integer number specifies the precision and \"f\" stands for fixed floating point format, \"e\" for the scientific notation. Without this option, the default luminosity value output is \"9f\". Choose the precision and format according to your need. Too high precision output slows down the program and bloat the output file on disk. In addition, the luminosity number output precision can be reduced by using -u UNIT or -n SCALEFACTOR options. "
   ]
  },
  {
   "cell_type": "markdown",
   "id": "9a3444aa-1b2c-46ad-a426-683f2b31f4a1",
   "metadata": {},
   "source": [
    "##### --hltpath HLTPATH option\n",
    "\n",
    "**HLTPATH** is hlt path name or pattern. The string pattern uses the file system convention fnmatch. \\*, ? ,\\[seq], \\[!seq] operators are recognised. In order not to confuse with the file system, please double quote the hltpath string if there are special char \\*, ?, \\[] \\!"
   ]
  },
  {
   "cell_type": "markdown",
   "id": "7733db77-46c8-4616-9c2d-b0c67257f0ec",
   "metadata": {},
   "source": [
    "Show nominal luminosity scaled down by HLT and L1 prescale factors also taking into account L1 bit masks. Nominal luminosity means that taken during CMS running. \n",
    "\n",
    "This scaling filter has effect on all lumi switches or without, e.g. --byls, --xing. The output format could be different from the default one: one or two fields are removed and replaced with the long HLT path string.\n",
    "\n",
    "Any of the following conditions cause the rejection of a lumisection in the selected path: hlt prescale=0, relavent l1 bits prescale=0 or relavent l1 bits masked.\n",
    "\n",
    "Each output unit is grouped by hlt path name meaning if the output is one per lumi section, then for each of them, all possible hltpaths are shown before changing to the next unit.   "
   ]
  },
  {
   "cell_type": "markdown",
   "id": "be865d13-6961-4485-a9f6-1d58e9797a0f",
   "metadata": {},
   "source": [
    "Since release >=3.3.0 Sum delivered, Sum recorded fields in the Summary section show the sum luminosity of all groups above. Their meaning depends on the user's context."
   ]
  },
  {
   "cell_type": "markdown",
   "id": "c0b52ca5-73f7-4b07-82b0-f8fe29e7e2d5",
   "metadata": {},
   "source": [
    "<div class=\"warn cell\">\n",
    "<strong>Note :</strong> The number of combinatorials of trigger information is huge. If no sufficiently strict --hltpath filter is specified, it is a performance hit on the database and the execution software. If you must use loose filters, switch to csv display style or file might help slightly. \n",
    "</div>"
   ]
  },
  {
   "cell_type": "markdown",
   "id": "a060e4cc-103f-4c2f-adcc-c4585918a7db",
   "metadata": {},
   "source": [
    "##### --dataset DATASET option (added since release >=3.7.0)\n",
    "\n",
    "**DATASET** is the dataset name. When --dataset option is present, --hltpath is also required. Different from using --hltpath option alone, when --dataset DATASET and --hltpath HLTPATH options are used in combination, precise strings of DATASET and HLTPATH must be provided, string patterns are NOT accepted.  "
   ]
  },
  {
   "cell_type": "markdown",
   "id": "5df18168-3784-4afa-91d6-2b540ba159fb",
   "metadata": {},
   "source": [
    "Show nominal luminosity of a particular hltpath in a specific dataset, scaled down by HLT and L1 prescale factors also taking into account L1 bit masks. The total prescale factor is the product of dataset, hlt and L1 prescale factors."
   ]
  },
  {
   "cell_type": "markdown",
   "id": "6cf42c50-ae82-4197-94ab-77102adabb33",
   "metadata": {},
   "source": [
    "##### --ignore-mask switch"
   ]
  },
  {
   "cell_type": "markdown",
   "id": "8004a4a7-c5a8-4702-bcbb-31b570214a79",
   "metadata": {},
   "source": [
    "Switch off the effect of L1 bit masks. This should be used only for debugging purpose. The masks should be considered for the result to be correct."
   ]
  },
  {
   "cell_type": "markdown",
   "id": "e47a2631-908b-4e1e-9252-b0230aab8530",
   "metadata": {},
   "source": [
    "##### --without-checkjson switch"
   ]
  },
  {
   "cell_type": "markdown",
   "id": "3c3d1842-491d-474c-93ce-70e4a1d477df",
   "metadata": {},
   "source": [
    "Switch off cross-checking with the json selection."
   ]
  },
  {
   "cell_type": "markdown",
   "id": "6629cff6-4017-4aaa-914a-521c4567efad",
   "metadata": {},
   "source": [
    "##### --minBiasXsec MINBIASXSEC option"
   ]
  },
  {
   "cell_type": "markdown",
   "id": "708585c2-0bcf-4d21-9344-1613514b2aca",
   "metadata": {},
   "source": [
    "Specify minimum bias cross section (ub) to use when calculating the average pileup column for the --byls output. This option should be used together with --type or --normtag. The program does not accept this option if neither --type nor --normtag is found. \n",
    "\n",
    "**Note:** the average pileup per lumi section is recalculated only if both --byls --normtag or --byls --type are specified. In other cases, the result shown is what calculated online during data acquisition time and cannot be changed. \n",
    "\n",
    "Reference minbias cross section table:\n",
    "\n",
    "Single Beam E (Gev) | Accelerator mode | minBiasXsec (ub) \n",
    "---  | --- | --- \n",
    "6500 | pp | 80000  \n",
    "2510 | pp | 65000 \n",
    "6370 | pbpb | 7800000 \n",
    "3500 | pp | 71500\n",
    "4000 | pp | 73000\n",
    "5000 | ppb | 2061000\n",
    "8160 | ppb | 2135000\n",
    "2720 | xexe | 5650000"
   ]
  },
  {
   "cell_type": "markdown",
   "id": "2e234780-12cf-4e67-8570-f32933a6a676",
   "metadata": {},
   "source": [
    "<a id='brilcalcbeam'></a>\n",
    "#### <span style=\"color:#6699CC\">*beam subcommand*</span>\n",
    "Subcommand to show beam information (timeinfo, single beam energy, beam intensities, ncolliding bunches) per lumi section."
   ]
  },
  {
   "cell_type": "markdown",
   "id": "74927542-bc30-4842-8a42-5b463bb9f9e6",
   "metadata": {},
   "source": [
    "##### --xing switch\n",
    "Show beam intensities per bunch crossing. The bxidx field of the output has the range of [1,3564]"
   ]
  },
  {
   "cell_type": "markdown",
   "id": "8f826450-60e9-44c4-9d73-83bf2daad326",
   "metadata": {},
   "source": [
    "<div class=\"warn cell\">\n",
    "<strong>Note :</strong> for better performance, it is strongly recommended to use -o OUTPUTFILE or --output-style csv for the --xing option.\n",
    "</div>"
   ]
  },
  {
   "cell_type": "markdown",
   "id": "cc4db5d5-d4f3-4196-95cb-9c3f286c3655",
   "metadata": {},
   "source": [
    "<a id='brilcalctrg'></a>\n",
    "#### <span style=\"color:#6699CC\">*trg subcommand*</span>\n",
    "trg subcommand shows L1, HLT bit/path and prescale information per run/per lumi section. The hlt path shown by this subcommand is constraint to only those potentially relevant to luminosity. Paths containing substring such as \"Calibration\",\"Random\",\"DQM\",\"Physics\",\"Activity\" are ignored.\n",
    "\n",
    "Without any filter options the summary map of the hltconfig to run number is shown. Switches and filter options specific to this subcommand are explained below.\n"
   ]
  },
  {
   "cell_type": "markdown",
   "id": "ec02700c-3a2f-4fc6-9e70-a708469ca506",
   "metadata": {},
   "source": [
    "##### --pathinfo switch\n",
    "Show HLT path and its L1 seed expression as well as the logical relationship between the l1 bits in the expression. Complicated L1seed logics with no simple scaling relationship between L1 bits are excluded. Filter options --hltconfig , -r, --hltpath reduce the output size. "
   ]
  },
  {
   "cell_type": "markdown",
   "id": "06381ecc-a7e5-4c5e-adb9-ac1a5ae9dca8",
   "metadata": {},
   "source": [
    "##### --prescale switch\n",
    "If no --hltpath filter is specified, show prescale index change during the given run. If --hltpath filter is given, show the real HLT and L1 prescale values of the selected run on the selected hltpath(s). \n",
    "\n",
    "Note: if the selected path is not effective , e.g. prescale=0 or all its seed bits are masked or having prescale=0, no result will be shown. Only truely effective hltpath are shown. You can use the --ignore-mask option to relax the requirement on l1bit masks. But keeping in mind that for the correctness of the result L1 mask should not be ignored, it is the same as prescale value=0.\n",
    "\n",
    "\n",
    "Since relase 3.7.0, the L1 prescale factors can be float number. Using older releases , the L1 prescale factors will be integer numbers due to type constraints from software."
   ]
  },
  {
   "cell_type": "markdown",
   "id": "1a920141-a55d-47f4-99e0-60dc437cf607",
   "metadata": {},
   "source": [
    "##### filter options\n",
    "\n",
    "Since L1 and HLT information are not associated with LHC fill numbers, this subcommand supports only one common time selection option -r RUN. "
   ]
  },
  {
   "cell_type": "markdown",
   "id": "7c58e60a-a73d-4249-9094-6a605c0c2eae",
   "metadata": {},
   "source": [
    "<div class=\"cmdlines cell\">\n",
    "   <p><strong>-r RUN :</strong> run number \n",
    "   </p>\n",
    "   <p><strong>--hltconfig HLTCONFIG :</strong> numeric hltconfig id or string hltkey. \n",
    "   </p>\n",
    "   <p><strong>--hltpath HLTPATH :</strong> hlt path name or pattern. The string pattern uses the file system convention fnmatch. \\*, ? ,\\[seq], \\[!seq] operators are recognised. \n",
    "   </p>\n",
    "   <p><strong>--dataset DATASET :</strong> dataset name filter. This option must be used together with --hltpath HLTPATH. And when using --dataset and --hltpath options together, no string pattern is accepted.\n",
    "   </p>\n",
    "   <p><strong>--ignore-mask :</strong> ignore the effect of masks on L1 bits on prescale values. This should be used only for debugging purpose. \n",
    "   </p>\n",
    "</div>"
   ]
  },
  {
   "cell_type": "markdown",
   "id": "464debd4-cd59-4e79-8b25-cc363e93ccd7",
   "metadata": {},
   "source": [
    "<div class=\"warn cell\">\n",
    "<p>\n",
    "<strong>Note :</strong> The number of combinatorials of trigger information is huge. If no sufficiently strict filters are specified, it is a performance hit on the database and the execution software. Therefore using strict filters are recommended. If you must use loose filters, switch to csv display style or file might help a bit. \n",
    "</p>\n",
    "</div>"
   ]
  },
  {
   "cell_type": "markdown",
   "id": "ce945ac5-9566-471a-b6b5-a4251d74df32",
   "metadata": {},
   "source": [
    "[Back to Top](#top)"
   ]
  },
  {
   "cell_type": "markdown",
   "id": "abbc6c8f-f7d8-4122-8d0a-64c7367dcb72",
   "metadata": {},
   "source": [
    "<a id='briltag'></a>\n",
    "### briltag command\n",
    "\n",
    "briltag is a command for normtag and datatag management. Tags are used for versioning.\n",
    "\n",
    "Calibration and correction factors can be applied offline and having different values at different time period. Norm tag describes the function and parameters applied to the raw data. Each correction has its validity in time( run number ).\n",
    "\n",
    "Sometimes the raw data need to be patched. Data tag is the version of the raw data. For the moment, there is only one version \"online\". And the tool is not fully developed for handling data tags.\n"
   ]
  },
  {
   "cell_type": "markdown",
   "id": "56005b66-0a41-460c-98bf-1c20ecad8a58",
   "metadata": {},
   "source": [
    "#### <span style=\"color:#6699CC\">*common command options*</span>"
   ]
  },
  {
   "cell_type": "markdown",
   "id": "78fedd3f-48be-472d-9139-c188b4a2e738",
   "metadata": {},
   "source": [
    "Database connection parameters -c, -p are common. However, one should distinguish readonly and readwrite operations. listxxx commands are readonly therefore -c, -p option values work as normal. insertxxx commands involve database write operations, only BRIL operators can perform it using specific -c, -p parameters."
   ]
  },
  {
   "cell_type": "markdown",
   "id": "6bf40652-102e-4e6e-8613-96f2fa3d85bd",
   "metadata": {},
   "source": [
    "<div class=\"cmdlines cell\">\n",
    "   <p>\n",
    "   <strong>-c CONNECTION :</strong> database service to connect to. Example choices [\"offline\",\"online\",\"onlinew\",\"dev\"]. The default is \"offline\". \n",
    "   </p>\n",
    "   <p>\n",
    "   <strong>-p AUTHFILE : </strong> database authentication file. \n",
    "   </p>\n",
    "</div>"
   ]
  },
  {
   "cell_type": "markdown",
   "id": "de869b80-8881-4867-af57-4b5a52553aee",
   "metadata": {},
   "source": [
    "<a id='briltaglistiov'></a>\n",
    "#### <span style=\"color:#6699CC\">*listiov subcommand*</span>\n",
    "Show norm tag info of each luminometer. By default, the summary is shown. With **--name** it shows the detail of the selected tag. \n",
    "Some predefined functions shown below."
   ]
  },
  {
   "cell_type": "markdown",
   "id": "443a4f5e-3563-497c-a88c-ca1112fc9288",
   "metadata": {},
   "source": [
    "function | description | parammeters\n",
    "--- | --- | ---\n",
    "**poly1d** | polynomial | coefs: array of coefficients\n",
    "**inversepoly1d** | 1/polynomial | coefs: array of coefficients\n",
    "**afterglow** | afterglow correction by bx threshold | afterglowthresholds: array of (nbx threshold,factor)\n",
    "**poly1dWafterflow** | poly1d followed by afterglow correction | coefs, afterglowthresholds\n",
    "**inversepoly1dWafterglow** | product of inverse poly1d and afterglow | coefs, afterglowthresholds\n",
    "**poly2dlL** | polynomial2d c[i,j]\\*x^i*y^j where x=per bunch lumi , y=totallumi | coefs: array of coefficients \n",
    "**poly2dlLWafterglow** | poly2dlL followed by afterglow correction | coefs, afterglowthresholds\n",
    "**afterglowWpoly2dlL** | afterglow correction followed by poly2dlL | coefs, afterglowthresholds"
   ]
  },
  {
   "cell_type": "markdown",
   "id": "7711b4af-2481-4111-8e97-b02710a80a34",
   "metadata": {},
   "source": [
    "**Note** :\n",
    "\n",
    "The correction function is on the **single bunch instantaneous luminosity (SBIL)**. Its effect on the luminosity integrated over all orbits is calculated and applied automatically by the software based on the assumption that the bunches are equally populated. "
   ]
  },
  {
   "cell_type": "markdown",
   "id": "db74029a-d7fe-4bbf-aa7d-c15f2669e54e",
   "metadata": {},
   "source": [
    "<a id='briltaginsertiov'></a>\n",
    "#### <span style=\"color:#6699CC\">*insertiov subcommand*</span>\n",
    "To insert normtag data into database. Data to insert must be defined in an input file of yaml format and given to the -y option."
   ]
  },
  {
   "cell_type": "markdown",
   "id": "8bbf4627-08fa-4bb5-9232-5aa1556e08ac",
   "metadata": {},
   "source": [
    "<div class=\"cmdlines cell\">\n",
    "\n",
    "   <p><b>-y YAMLFILE</b> : file defining calibration parameters and corresponding interval of validity. Example input yaml file shown below. Note: yaml format requires correct indentations with no tab char. You can use a <a href=\"http://codebeautify.org/yaml-to-json-xml-csv\">yaml validator</a> to validate the  input data before loading to database.\n",
    "   <pre>\n",
    "        name: pltzerov1\n",
    "        applyto: lumi\n",
    "        datasource: pltzero\n",
    "        istypedefault: 0\n",
    "        comments: from mini vdm\n",
    "        since:\n",
    "            - 246437:\n",
    "                func: poly1d\n",
    "                payload: {'coefs': '0.,0.'}\n",
    "                comments: 2015, egev 6500, PROTPHYS, uncalibrated\n",
    "            - 246908:\n",
    "                func: poly1d\n",
    "                payload: {'coefs': '21.7524,0.'}\n",
    "                comments: 2015, egev 6500, PROTPHYS, magnet off\n",
    "            - 271001:\n",
    "                func: poly2dlL\n",
    "                payload: {'coefs': '[[0,0],[0.00132754,1.175e-12]]'}\n",
    "                comments: with correlated correction of raw and tot_raw\n",
    "   </pre>\n",
    "</div>"
   ]
  },
  {
   "cell_type": "markdown",
   "id": "c7e22922-a419-4572-8643-3773f7a44065",
   "metadata": {},
   "source": [
    "<a id='briltaglistdata'></a>\n",
    "#### <span style=\"color:#6699CC\">*listdata subcommand*</span>\n",
    "List all data tags"
   ]
  },
  {
   "cell_type": "markdown",
   "id": "4cedc78d-c454-493f-9b63-7ec75a0e6eca",
   "metadata": {},
   "source": [
    "<a id='briltaginsertdata'></a>\n",
    "#### <span style=\"color:#6699CC\">*insertdata subcommand*</span>\n",
    "Creat a new data tag. lumi beam data are versioned, trigger data are not. The condition to open a new datatag is if there are old data under the most recent tag for the lumi sections to load (patch). Loading new data to the most recent tag does not require opening a new one. For example, if loading run=1,ls=1 to tag v1 would cause a duplicated id error, then you need to create a data tag v2. "
   ]
  },
  {
   "cell_type": "markdown",
   "id": "70e145cc-b875-4a97-9b26-6f80b75c9363",
   "metadata": {},
   "source": [
    "<div class=\"cmdlines cell\">\n",
    "\n",
    "   <p><strong>--name TAGNAME</strong> : Name of the data tag. \n",
    "   </p>\n",
    "   <p><strong>--comments COMMENTS</strong> : Comments on the tag.\n",
    "   </p>\n",
    "</div>"
   ]
  },
  {
   "cell_type": "markdown",
   "id": "3712d1b1-6afd-44b2-86ab-0ad6fa65e391",
   "metadata": {},
   "source": [
    "[Back to Top](#top)"
   ]
  },
  {
   "cell_type": "markdown",
   "id": "167031e3-3651-4bc5-99ad-4986ed45a3ae",
   "metadata": {},
   "source": [
    "<a id='triggerrules'></a>\n",
    "## Appendix A : Trigger Rules \n",
    "\n",
    "Effective luminosity in a given HLT path is : total_luminosity/(HLT_prescale*L1_prescale).\n",
    "\n",
    "Rules on deducing L1 contribution to the total prescale factor :"
   ]
  },
  {
   "cell_type": "markdown",
   "id": "eab33891-9bfb-4a24-ae5b-f0b33a0e60cd",
   "metadata": {},
   "source": [
    "1. Do not consider any masked L1 bit in the seed expression, unless --ignore-mask switch is specified.\n",
    "\n",
    "1. If the path is single seeded, take the seed bit's prescale value.\n",
    "\n",
    "1. If (A.1 OR A.2 OR A.3...) , ignore the triggers with prescale 0, take the minimum of the remaining prescale values.\n",
    "\n",
    "1. If (A AND B AND C...), take the product of the prescale values.\n",
    "\n",
    "1. If NOT, or a combination of AND/OR/NOT, reject this path.\n",
    "\n",
    "1. For HLT_L1seed logic with more than one logical operators, users are considered taking their own risk and should use own judgement.\n",
    "\n",
    "Note: above rules are effective since release 2.1.x. "
   ]
  },
  {
   "cell_type": "markdown",
   "id": "f27d079b-8713-4ed8-b3e4-c07fd7da9bfb",
   "metadata": {},
   "source": [
    "Two suggested by not implemented rules:\n",
    "\n",
    "1. (NOT IMPLEMENTED) If (A.1 OR A.2 OR A.3...) AND (B.1 OR B.2 OR B.3...) AND ... , for each group, take the minimum of the non-zero prescal, or zero if they are all zero. Then the product of the prescales of each group. Note: not implemented means such path are rejected by brilcalc.\n",
    "\n",
    "2. (NOT IMPLEMENTED) In some cases, L1 masks and prescale should be ignored. Note: not implemented means users are expected know about such cases and use --ignore-mask by themselves."
   ]
  },
  {
   "cell_type": "markdown",
   "id": "2a3fd13b-b838-4dbe-be1f-9cb27e1741a2",
   "metadata": {},
   "source": [
    "[Back to Top](#top)"
   ]
  },
  {
   "cell_type": "code",
   "execution_count": 1,
   "id": "b50067c6-35f1-4196-937e-004054984a14",
   "metadata": {},
   "outputs": [
    {
     "data": {
      "text/html": [
       "<style>\n",
       "th {\n",
       "    background-color:#55FF33;\n",
       "}\n",
       "td {\n",
       "    background-color:#00FFFF;\n",
       "}\n",
       "div.cell{\n",
       "    width:800px;\n",
       "    margin-left:10px !important;\n",
       "    margin-right:auto;\n",
       "}\n",
       "div.warn {\n",
       "    background-color: #fcf2f2;\n",
       "    border-color: #dFb5b4;\n",
       "    border-left: 5px solid #dfb5b4;\n",
       "    padding: 0.5em;\n",
       "}\n",
       "div.cmdlines{\n",
       "    margin-bottom:1em; \n",
       "    margin-top: 1em; \n",
       "    margin-left: 3em; \n",
       "    padding: 0.5em;\n",
       "    color:#bc6916; \n",
       "    font-weight: 200; \n",
       "    font size: 9pt; \n",
       "    line-height 200%; \n",
       "    font-family: Monospace;\n",
       "    background-color:#ecf0f1;\n",
       "}\n",
       "h1 { \n",
       "    margin-bottom:1em;\n",
       "    margin-top: 1em;\n",
       "    font-family: Helvetica, serif;\n",
       "    color: #444; \n",
       "}\n",
       "h2 { \n",
       "    margin-bottom:1em;\n",
       "    margin-top:1em;\n",
       "    color: #444; \n",
       "}\n",
       "h4{\n",
       "    margin-top:1em;\n",
       "    margin-bottom:1em;\n",
       "    font-size:18pt;\n",
       "}\n",
       "div.text_cell_render{\n",
       "   font-family: \"Helvetica Neue\", Arial, Helvetica, Geneva, sans-serif;\n",
       "   line-height: 145%;\n",
       "   font-size: 100%;\n",
       "   width:800px;\n",
       "   margin-left:auto;\n",
       "   margin-right:auto;\n",
       "}\n",
       ".CodeMirror{\n",
       "    font-family: \"Source Code Pro\", source-code-pro, Consolas,monospace;\n",
       "    font-size: 9pt;\n",
       "    font-weight: 300;\n",
       "    color: #4057A1;\n",
       "    margin-bottom: .5em;\n",
       "    margin-top: 0.5em;\n",
       "}\n",
       ".prompt{\n",
       "    display: None;\n",
       "}\n",
       ".text_cell_render h5{\n",
       "    font-weight: 300;\n",
       "    font-size: 16pt;\n",
       "    color: #4057A1;\n",
       "    font-style: italic;\n",
       "    margin-bottom: .5em;\n",
       "    margin-top: 0.5em;\n",
       "    display: block;\n",
       "}\n",
       "\n",
       ".warning{\n",
       "    color: rgt(240, 20, 20)\n",
       "}\n",
       "\n",
       "div.mynavbar{\n",
       "    margin: 0;\n",
       "    background: #000;\n",
       "    padding: 0;\n",
       "}\n",
       ".my-nav{\n",
       "    margin: 0;\n",
       "    padding: 0;\n",
       "    list-style: none;\n",
       "}\n",
       "\n",
       ".my-nav li{\n",
       "    display: inline;\n",
       "    margin: 0;\n",
       "    float: left;\n",
       "}\n",
       "\n",
       "a.my-nav:link, a.my-nav:visited { \n",
       "    display: block;\n",
       "    padding: .7em 1.2em;\n",
       "    font-weight: bold;\n",
       "    color: white; \n",
       "    background-color: #444;\n",
       "}\n",
       "a.my-nav:focus { color: black; background-color: white; }\n",
       "a.my-nav:hover { color: white; background-color: green; }\n",
       "a.my-nav:active { color: white: background-color: red; }\n",
       "\n",
       "</style>\n"
      ],
      "text/plain": [
       "<IPython.core.display.HTML object>"
      ]
     },
     "execution_count": 1,
     "metadata": {},
     "output_type": "execute_result"
    }
   ],
   "source": [
    "from IPython.core.display import HTML\n",
    "def css_styling():\n",
    "    styles = open('./style/custom.css','r').read()\n",
    "    return HTML(styles)\n",
    "css_styling()"
   ]
  },
  {
   "cell_type": "code",
   "execution_count": null,
   "id": "a3e08fa6-c2fe-4bd6-a287-58df65fed60e",
   "metadata": {},
   "outputs": [],
   "source": []
  }
 ],
 "metadata": {
  "kernelspec": {
   "display_name": "Python 3 (ipykernel)",
   "language": "python",
   "name": "python3"
  },
  "language_info": {
   "codemirror_mode": {
    "name": "ipython",
    "version": 3
   },
   "file_extension": ".py",
   "mimetype": "text/x-python",
   "name": "python",
   "nbconvert_exporter": "python",
   "pygments_lexer": "ipython3",
   "version": "3.10.12"
  }
 },
 "nbformat": 4,
 "nbformat_minor": 5
}
