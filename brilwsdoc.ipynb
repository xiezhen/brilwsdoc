{
 "cells": [
  {
   "cell_type": "markdown",
   "metadata": {},
   "source": [
    "# BRIL Work Suite "
   ]
  },
  {
   "cell_type": "raw",
   "metadata": {},
   "source": [
    "<div class=\"mynavbar cell\">\n",
    "<ul class=\"my-nav\">\n",
    "<li><a class=\"my-nav\" href=\"http://cms-service-lumi.web.cern.ch/cms-service-lumi/dbrss.xml\">News</a></li>\n",
    "<li><a class=\"my-nav\" href=\"http://cms-service-lumi.web.cern.ch/cms-service-lumi/releaserss.xml\">Releases</a></li>\n",
    "<li><a class=\"my-nav\" href=\"http://cms-service-lumi.web.cern.ch/cms-service-lumi/brilwsdocs.html\">Docs</a></li>\n",
    "</ul>\n",
    "</div>\n",
    "<br>\n",
    "<br>"
   ]
  },
  {
   "cell_type": "markdown",
   "metadata": {},
   "source": [
    "<hr>\n",
    "\n",
    "A commandline toolkit for CMS Beam Radiation Instrumentation and Luminosity (BRIL). \n",
    "\n",
    "The BRIL Work Suite works on top of the python virtual environment brilconda which is a custom build of the <a href=\"https://store.continuum.io/cshop/anaconda/\">Anaconda Scientific Python</a> distribution. \n",
    "\n",
    "As prerequisite, the python virtual environment should be centrally or privately installed.\n",
    "\n",
    "And there is NO requirement on the PYTHONPATH nor LD_LIBRARY_PATH to envoke the software.\n",
    "\n",
    "The virtual environment brilconda has much longer release cycle than the bril toolkit.\n",
    "</hr>"
   ]
  },
  {
   "cell_type": "markdown",
   "metadata": {},
   "source": [
    "##### Documentation for release 3.1.x\n",
    "<p>\n",
    "**Table Of Contents:**\n",
    "\n",
    "1.   [Prerequisite for running and installing brilws](#prerequisite)\n",
    "\n",
    "2.   [Install brilws](#installation)\n",
    "\n",
    "3.   [Install brilconda virtual environment](#brilcondainstallation)\n",
    "\n",
    "4.   [Command Structure](#commandstructure)\n",
    "\n",
    "5.   [brilcalc](#brilcalc)\n",
    "\n",
    "    *   [lumi](#brilcalclumi)\n",
    "\n",
    "    *   [beam](#brilcalcbeam)\n",
    "     \n",
    "    *   [trg](#brilcalctrg)\n",
    "    \n",
    "6.   [briltag](#briltag) \n",
    "    *   [listiov](#briltaglistiov)\n",
    "    *   [insertiov](#briltaginsertiov)\n",
    "    *   [listdata](#briltaglistdata)\n",
    "    *   [insertdata](#briltaginsertdata)\n",
    "    \n",
    "7.   [Appendix A : trigger rules](#triggerrules)\n",
    "\n",
    "<a id='top'></a>"
   ]
  },
  {
   "cell_type": "markdown",
   "metadata": {},
   "source": [
    "<a id='prerequisite'></a>\n",
    "## Prerequisite for running and installing brilws"
   ]
  },
  {
   "cell_type": "markdown",
   "metadata": {},
   "source": [
    "1.  work with centrally installed virtual environment on lxplus:\n",
    "    ```\n",
    "    export PATH=$HOME/.local/bin:/afs/cern.ch/cms/lumi/brilconda-1.1.7/bin:$PATH (bash)\n",
    "    \n",
    "    ``` \n",
    "    \n",
    "2.  work with central installationon bril online cluster in .cms\n",
    "    \n",
    "    ```\n",
    "    export PATH=$HOME/.local/bin:/nfshome0/lumipro/brilconda/bin:$PATH    (bash)\n",
    "    ```\n",
    "    \n",
    "3.  privately installation of virtual environment\n",
    "    ```\n",
    "    export PATH=<brilcondabasedir>/bin:$PATH       (bash)\n",
    "    ```\n",
    "    \n",
    "\n",
    "Note: the **\\$PATH** requirement must be fullfilled for the **shell** from which the brilws and pip commands run. Be aware that external scripts, e.g. cmsenv.sh, alter the **\\$PATH** environment, users should make sure the environment is as above **at the moment of** running the brilws and pip commands."
   ]
  },
  {
   "cell_type": "markdown",
   "metadata": {},
   "source": [
    "<a id='installation'></a>\n",
    "## Installation of brilws\n",
    "**Please do not attempt this if the prerequisite condition is not satisfied**"
   ]
  },
  {
   "cell_type": "markdown",
   "metadata": {},
   "source": [
    "### Install brilws"
   ]
  },
  {
   "cell_type": "markdown",
   "metadata": {},
   "source": [
    "#### cern\n",
    "\n",
    "```\n",
    "pip install --install-option=\"--prefix=$HOME/.local\" brilws\n",
    "```\n"
   ]
  },
  {
   "cell_type": "markdown",
   "metadata": {},
   "source": [
    "#### online (on bril host)\n",
    "```\n",
    "pip install --no-index --find-links=file:///nfshome0/lumipro/installers/linux-64 --install-option=\"--prefix=$HOME/.local\" brilws\n",
    "```"
   ]
  },
  {
   "cell_type": "markdown",
   "metadata": {},
   "source": [
    "#### private virtual environment brilconda\n",
    "```\n",
    "pip install brilws\n",
    "```"
   ]
  },
  {
   "cell_type": "markdown",
   "metadata": {},
   "source": [
    "### Install a specific version"
   ]
  },
  {
   "cell_type": "markdown",
   "metadata": {},
   "source": [
    "Specify the version of the package with == operator: e.g. brilws==0.1.0"
   ]
  },
  {
   "cell_type": "markdown",
   "metadata": {},
   "source": [
    "\n",
    "### Uninstall brilws \n",
    "**Please do not attempt this if prerequisite condition is not satisfied**"
   ]
  },
  {
   "cell_type": "markdown",
   "metadata": {},
   "source": [
    "```\n",
    "pip uninstall brilws\n",
    "```"
   ]
  },
  {
   "cell_type": "markdown",
   "metadata": {},
   "source": [
    "### Check most recent version (Please check prerequisite condition is satisfied before anything)"
   ]
  },
  {
   "cell_type": "markdown",
   "metadata": {},
   "source": [
    "```\n",
    "pip show brilws\n",
    "```"
   ]
  },
  {
   "cell_type": "markdown",
   "metadata": {},
   "source": [
    "\n",
    "<a id='brilcondainstallation'></a>\n",
    "## Install virtual environment brilconda (Optional)"
   ]
  },
  {
   "cell_type": "markdown",
   "metadata": {},
   "source": [
    "<p>\n",
    "The virtual environment is centrally installed in two locations:\n",
    "\n",
    "#### CERN afs : /afs/cern.ch/cms/lumi/brilconda*\n",
    "\n",
    "#### bril online cluster : /nfshome0/lumipro/brilconda\n",
    "\n",
    "If local resource permits, users can choose to install the brilconda environment privately for more control over the working environment. Install brilconda on different platforms:\n",
    "\n",
    "##### Linux-x86_64 with installer\n",
    "\n",
    "```\n",
    "wget https://cern.ch/cmslumisw/installers/linux-64/Brilconda-1.1.7-Linux-x86_64.sh\n",
    "```\n",
    "\n",
    "```\n",
    "bash Brilconda-1.1.7-Linux-x86_64.sh -b -p <localbrilcondabase>\n",
    "```\n",
    "\n",
    "##### Linux-x86_64 with RPM \n",
    "\n",
    "The rpm is relocatable and root previledge is required. \n",
    "\n",
    "```\n",
    "wget https://cern.ch/cmslumisw/installers/linux-64/Brilconda-1.1.7-1.x86_64.rpm\n",
    "```\n",
    "\n",
    "```\n",
    "sudo rpm -i --prefix=<installdir> Brilconda-1.1.7-1.x86_64.rpm\n",
    "```\n",
    "\n",
    "Note: <installdir> here is one level above brilconda. The rpm creates directory brilconda under <installdir>.\n",
    "\n",
    "##### MacOS-64 with installer\n",
    "```\n",
    "wget https://cern.ch/cmslumisw/installers/macos-64/Brilconda-1.1.7-MacOSX-x86_64.sh\n",
    "```\n",
    "\n",
    "```\n",
    "bash Brilconda-1.1.7-MacOSX-x86_64.sh -b -p <localbrilcondabase>\n",
    "```\n",
    "\n",
    "Regardless the location of the installation, the virtual environment is activated whenever its bin directory is in the PATH, and disactivated when the bin directory is not present in the PATH. \n",
    "<p>"
   ]
  },
  {
   "cell_type": "raw",
   "metadata": {},
   "source": [
    "<div class=\"warn cell\">\n",
    "<p>\n",
    "<strong>Note:</strong> There is no requirements on the PYTHONPATH nor LD_LIBRARY_PATH to envoke python software.\n",
    "</p>\n",
    "<p>\n",
    "Packages included in the current environment: <a href=\"https://cern.ch/cmslumisw/brilconda-1.1.7.info\">here</a>\n",
    "</p>\n",
    "</div>"
   ]
  },
  {
   "cell_type": "markdown",
   "metadata": {},
   "source": [
    "<a id='offsite access'></a>\n",
    "### Off-site access \n",
    "<p>\n",
    "    BRIL tools analyse data in the database server at CERN which is closed to the outside. Therefore the most convienient way is to run the toolkit on hosts (private or public) at CERN. If you must use the software installed outside the CERN intranet, a ssh tunnel to the database server at CERN has to be established first. Since the tunneling procedure requires a valid cern computer account, a complete unregistered person will not be able to access the BRIL data in any case. \n",
    "\n",
    "<p>\n",
    "    The following instruction assumes the easiest setup: you have **two** open sessions on the same off-site host, e.g. cmslpc32.fnal.gov, one for the ssh tunnel and another for execution. It is also assumed that all the software are installed and the $PATH variable set correctly on the execution shell.\n",
    "<p>"
   ]
  },
  {
   "cell_type": "markdown",
   "metadata": {},
   "source": [
    "#### ssh tunneling session\n",
    "\n",
    "```\n",
    "    ssh -N -L 10121:itrac5212-v.cern.ch:10121 <cernusername>@lxplus.cern.ch\n",
    "```\n",
    "\n",
    "Provide you cern account password and the tunnel will kept open without getting back the shell prompt.\n",
    "\n",
    "#### execution session\n",
    "\n",
    "```\n",
    "    brilcalc lumi -c offsite -r 281636\n",
    "```\n",
    "<p>\n",
    "Run bril tools as usual with connection string **-c offsite**. \n",
    "<p>"
   ]
  },
  {
   "cell_type": "raw",
   "metadata": {},
   "source": [
    "<div class=\"warn cell\">\n",
    "<p><strong>Note:</strong> the -c <strong>offsite</strong> parameter is supported only with release version >=2.2.0. </p>\n",
    "<p>\n",
    "<strong>Note:</strong> it should be possible to use one shell. It is easier to get lost with a single session, but if you prefer such way, please refer to ssh tunnel documents for instruction.\n",
    "</p>\n",
    "</div>\n",
    "\n",
    "<!--p>\n",
    "**Link**: [knowledge base for oracle access from outside CERN intranet](https://cern.service-now.com/service-portal/article.do?n=KB0004111)\n",
    "<p-->"
   ]
  },
  {
   "cell_type": "markdown",
   "metadata": {},
   "source": [
    "<a id='web cache access'></a>\n",
    "### web-cache access \n",
    "<p>\n",
    "  In addition to online, offline, on-site and off-site access to bril database server, indirect access\n",
    "via web cache is also supported for bril tools (read-only). Specificlly, web cache refers to the \n",
    "frontier/squid infrastructure available for all CMS sites. (It is also possible to have your own private setup.) \n",
    "</p>\n",
    "<p>\n",
    "  Using web cache access allows queries and results to be cached close to you therefore reducing the overall load on the database server at CERN. It is much faster to get already cached results. Another convenience is that accessing data from outside the CERN firewall does not require ssh tunnels in this case. \n",
    "</p>\n",
    "<p>\n",
    "  However, keep in mind that web cached are not real time data. The caches are reset every about 5 hours. In another word, the most recent results are not necessarily correct. For example, querying last run from the cache might show 5 lumi sections, while there were actually 200 lumi sections in the database. You get 5 because the cache close to you was already populated by yourself or other peoples since the last cache reset.\n",
    "\n",
    "  Any update operation on the database server will not be reflected by the cache for a few hours. \n",
    "</p>\n",
    "<p>\n",
    "  Weigh carefully advantage and disadvantage and use your own judgement when choosing between direct and indirect accesses.\n",
    "</p>"
   ]
  },
  {
   "cell_type": "markdown",
   "metadata": {},
   "source": [
    "#### use the cache server at CERN\n",
    "Option ** -c web ** directs you to the web cache server at CERN ** cmsfrontier.cern.ch:8000/LumiCalc **. e.g.\n",
    "```\n",
    "brilcalc lumi -c web -r 284077\n",
    "```\n"
   ]
  },
  {
   "cell_type": "markdown",
   "metadata": {},
   "source": [
    "#### use any cache server\n",
    "Option **```-c <config file>```** allows you to use the web cache most conveniently located and configured.\n",
    "\n",
    "The configuration file can be found at each CMS site, it is normally called as \"site-local-config.xml\".\n",
    "You can use it as it is or use it as a starting example to build your own configuration:\n",
    "\n",
    "```\n",
    "    brilcalc lumi -r 284077 -c /afs/cern.ch/cms/SITECONF/CERN/JobConfig/site-local-config.xml\n",
    "```\n",
    "\n",
    "To build custom cache config xml, only contents enclosed in the ```<frontier-connect>``` tag are required by the bril tool, all other tags are ignored: e.g.\n",
    "```\n",
    "    more /home/me/mycache.xml\n",
    "\n",
    "    <frontier-connect>\n",
    "       <proxy url=\"http://cmst0frontier.cern.ch:3128\"/>\n",
    "       <proxy url=\"http://cmst0frontier.cern.ch:3128\"/>\n",
    "       <proxy url=\"http://cmst0frontier1.cern.ch:3128\"/>\n",
    "       <proxy url=\"http://cmst0frontier2.cern.ch:3128\"/>\n",
    "       <server url=\"http://cmsfrontier.cern.ch:8000/FrontierInt\"/>\n",
    "       <server url=\"http://cmsfrontier.cern.ch:8000/FrontierInt\"/>\n",
    "       <server url=\"http://cmsfrontier1.cern.ch:8000/FrontierInt\"/>\n",
    "       <server url=\"http://cmsfrontier2.cern.ch:8000/FrontierInt\"/>\n",
    "       <server url=\"http://cmsfrontier3.cern.ch:8000/FrontierInt\"/>\n",
    "       <server url=\"http://cmsfrontier4.cern.ch:8000/FrontierInt\"/>\n",
    "    </frontier-connect>\n",
    "\n",
    "    brilcalc lumi -r 284077 -c /home/me/mycache.xml\n",
    "```\n",
    "\n",
    "Note: if you are working in the .cms network, you can not use the web cache. Anyway there is no need for that."
   ]
  },
  {
   "cell_type": "markdown",
   "metadata": {},
   "source": [
    "<p style=\"text-align:center\">[Back to Top](#top)"
   ]
  },
  {
   "cell_type": "markdown",
   "metadata": {},
   "source": [
    "\n",
    "<a id='commandstructure'></a>\n",
    "## Commands\n",
    "<p>\n",
    "\n",
    "**Please do not attempt anything bellow if prerequisite condition is not satisfied**"
   ]
  },
  {
   "cell_type": "markdown",
   "metadata": {},
   "source": [
    "The commandlines in the work suite are made of main and sub commands. Each subcommand have its independent help menus. For example, brilcalc lumi -h, where brilcalc is the main command, lumi is the subcommand.\n",
    "\n",
    "```\n",
    "brilcalc -h\n",
    "```\n",
    "\n",
    "```\n",
    "briltag -h\n",
    "```\n",
    "\n",
    "```\n",
    "brilcalc lumi -h\n",
    "```\n",
    "\n",
    "```\n",
    "brilcalc beam -h\n",
    "```\n",
    "\n",
    "```\n",
    "brilcalc trg -h\n",
    "```"
   ]
  },
  {
   "cell_type": "markdown",
   "metadata": {},
   "source": [
    "\n",
    "<a id='brilcalc'></a>\n",
    "## brilcalc\n",
    "<p>"
   ]
  },
  {
   "cell_type": "markdown",
   "metadata": {},
   "source": [
    "<a id='common options'></a>\n",
    "##### common command options\n",
    "\n",
    "<p>There are four categories of common command options: selection, filter, output and display, database connection  "
   ]
  },
  {
   "cell_type": "markdown",
   "metadata": {},
   "source": [
    "*  Selections: select on input lumi section, run, fill number or begin/end time in terms of UTC time or fill/run number. These selections can be overlapping. "
   ]
  },
  {
   "cell_type": "raw",
   "metadata": {},
   "source": [
    "<div class=\"cmdlines cell\">\n",
    "    <p><strong>-i INPUTSELECTION : </strong> input lumi section selection file or string format \n",
    "    {run:[[startls,stopls],[startls,stopls],...]} \n",
    "   \n",
    "   </p>\n",
    "   <p>\n",
    "    In the string input, the whole string should be quoted not the run number, e.g. \"{123456:[[1,4][6,19]]}\". In the file input, the run number field must be quoted. \n",
    "   </p>\n",
    "   <p> \n",
    "    By default, the command checks the lumi sections specified by the -i option against those actually returned as result and print out the list of mismatches. This feature can be switched off with <b>--without-checkjson</b>.\n",
    "    </p>    \n",
    "    <p><strong>--begin BEGIN :</strong> UTC time stamp MM/DD/YY HH24:MI:SS, fill or run number of the beginning lumi section\n",
    "    </p>\n",
    "    <p><strong>--end END : </strong>UTC time stamp MM/DD/YY HH24:MI:SS, fill or run number of the ending lumi section\n",
    "    </p>\n",
    "    <p><strong>-f FILLNUM :</strong> fill number\n",
    "    </p>\n",
    "    <p><strong>-r RUNNUM :</strong> run number\n",
    "    </p>\n",
    "</div>"
   ]
  },
  {
   "cell_type": "markdown",
   "metadata": {},
   "source": [
    "*  Filters: Filter on the result"
   ]
  },
  {
   "cell_type": "raw",
   "metadata": {},
   "source": [
    "   <div class=\"cmdlines cell\">\n",
    "    \n",
    "    <p><strong>-b BEAMSTATUS : </strong> filter on beam status. Choices [\"STABLE BEAMS\", \"FLAT TOP\",\"ADJUST\",\"SQUEEZE\"]\n",
    "    </p>\n",
    "    <p><strong>--amodetag AMODETAG : </strong> filter on machine mode. Choices [\"PROTPHYS\",\"IONPHYS\", \"PAPHYS\"]\n",
    "    </p>\n",
    "    <p><strong>--beamenergy BEAMENERGY : </strong> filter on target single beam energy in GeV. e.g. 1650\n",
    "    </p>\n",
    "   </div>"
   ]
  },
  {
   "cell_type": "markdown",
   "metadata": {},
   "source": [
    "*  Output and Display"
   ]
  },
  {
   "cell_type": "raw",
   "metadata": {},
   "source": [
    "   <div class=\"cmdlines cell\">\n",
    "   \n",
    "   <p><strong>-o OUTPUTFILE : </strong> output csv file. \"-\" is the special file stdout. This file output has precedence over the screen display. \n",
    "   </p>\n",
    "   \n",
    "   <p><strong>--output-style OUTPUT STYLE : </strong> output style on screen. Choices [\"tab\",\"csv\",\"html\"]. This option has no effect if there is already -o option. \n",
    "   </p>\n",
    "    \n",
    "   <p><strong>-n SCALEFACTOR : </strong> apply the scalefactor 1./n to the output. Contrary to older releases, it does NOT automatically change the output luminosity unit.\n",
    "   </p>\n",
    "   \n",
    "   <p><strong>--cerntime : </strong> switch to display result time field in cern local time. This switch has no effect on the input time. \n",
    "   </p>\n",
    "    \n",
    "   <p><strong>--tssec : </strong> switch to display result time field in unix timestamp. \n",
    "   </p>\n",
    "    </div>"
   ]
  },
  {
   "cell_type": "markdown",
   "metadata": {},
   "source": [
    "*  Database connection"
   ]
  },
  {
   "cell_type": "markdown",
   "metadata": {},
   "source": [
    "<p>Reasonable default parameters are given, readonly users do not need to specify these options.\n",
    "</p>  "
   ]
  },
  {
   "cell_type": "raw",
   "metadata": {},
   "source": [
    "<div class=\"cmdlines cell\">\n",
    "   <p><strong>-c CONNECTION : </strong> database service to connect to. Example choices [\"offline\",\"online\",\"onlinew\",\"dev\"]. The default is \"offline\".\n",
    "   </p>\n",
    "   <p><strong>-p AUTHFILE : </strong> database authentication file. Normal users do not need to specify this option.\n",
    "    </p>\n",
    "</div>"
   ]
  },
  {
   "cell_type": "markdown",
   "metadata": {},
   "source": [
    "\n",
    "<a id='brilcalclumi'></a>\n",
    "##### lumi"
   ]
  },
  {
   "cell_type": "markdown",
   "metadata": {},
   "source": [
    "<p>\n",
    "Subcommand to show luminosity measured by BRIL. By default, the summary of the best known luminosity is shown. Switches and options specific to the subcommand are explained below.\n",
    "<p>"
   ]
  },
  {
   "cell_type": "markdown",
   "metadata": {},
   "source": [
    "###### --byls switch\n",
    "Show luminosity by lumi section "
   ]
  },
  {
   "cell_type": "markdown",
   "metadata": {},
   "source": [
    "###### --xing switch\n",
    "Show luminosity by lumi section and per bunch crossing. The bxidx field of the output has the range of [1,3564]. More often not all 3564 possible bunches are interesting. Three filters can be specified with this switch to reduce the total output. The filters can be applied accumulatively."
   ]
  },
  {
   "cell_type": "markdown",
   "metadata": {},
   "source": [
    "* Bunch filters specific to --xing switch"
   ]
  },
  {
   "cell_type": "raw",
   "metadata": {},
   "source": [
    "<div class=\"cmdlines cell\">\n",
    "   \n",
    "   <p><strong>--xingId BXID : </strong> select bunch by id. Input can be a single number, a comma separated list in file or string format. e.g. --xingId \"1,2,3\"\n",
    "   </p>\n",
    "   <p><strong>--xingTr BXTHRESHOLD : </strong> select bunch with luminosity above the specified fraction of the max bx lumi. Input is a float number between 0 and 1. e.g. 0.85. \n",
    "   </p>    \n",
    "   <p><strong>--xingMin XINGMIN :</strong> select bunch with luminosity greater than the specified value. Note: any scaling effect from -n or -u options are already taken into account. The specified min value cut is applied to the final number.\n",
    "   </p>\n",
    "   </div>"
   ]
  },
  {
   "cell_type": "raw",
   "metadata": {},
   "source": [
    "<div class=\"warn cell\">\n",
    "<p>\n",
    "<strong>Note:</strong> for better performance, it is strongly recommended to use -o OUTPUTFILE or --output-style csv for the **--xing** option. Because in the case of csv output (to file or to screen), the result is streamed out without waiting for the whole display table instance to be fully collected.\n",
    "</p>\n",
    "</div>"
   ]
  },
  {
   "cell_type": "markdown",
   "metadata": {},
   "source": [
    "###### --normtag NORMTAG"
   ]
  },
  {
   "cell_type": "markdown",
   "metadata": {},
   "source": [
    "Apply calibration/correction function defined by a tag. Each norm tag is bound to a specific luminometer. By using the tag, you have automatically selected a luminometer.\n",
    "\n",
    "When selecting data from a combination of luminometers, a json format file or string is accepted (specified below). In this case, both -i and --normtag options can select run and lumi sections. When both given, the **intersection** of the two are used. Also, it is required that --normtag selection is a superset of the -i selection. On failing this check, warning messages will be printed but the program continues. "
   ]
  },
  {
   "cell_type": "markdown",
   "metadata": {},
   "source": [
    "   The composite selection is a list of lists as described below:\n",
    "\n",
    "<pre>\n",
    "  [\n",
    "    [normtag,{run:[[startls,stopls],[startls,stopls]...]} | run, run, ... ], \n",
    "    [normtag,{run:[[startls,stopls],[startls,stopls]...]} | run, run, ... ], \n",
    "    ...\n",
    "  ]\n",
    "</pre>\n",
    "  Run, ls selection matrices follow each normtag in which the chosen lumi sections are valid. \n",
    " \n",
    "  Here \"|\" means \"or\". Flat format of the inner list [normtag, run, run,...] is a shortcut to indicate that all lumi sections in the run are selected. Internally each run number string is translated to {run:[[1,999999]]}.\n",
    "Example below:\n",
    "\n",
    "<pre>\n",
    "  [ [\"bcm1fv1\",{\"251118\":[[1,20]]}],\n",
    "    [\"hfocv1\",{\"251118\":[[21,21]]}],\n",
    "    [\"bcm1fv1\",{\"251118\":[[22,24]]}],\n",
    "    [\"bcm1fv1\",\"251119\",\"251131\"],\n",
    "    [\"hfocv1\",\"251134\"],\n",
    "    [\"bcm1fv1\",\"251167\"],\n",
    "    [\"hfocv1\",\"251168\"]\n",
    "  ]\n",
    "</pre>\n",
    "\n",
    "  When this type of selection file is given --type argument has no more effects.\n",
    "\n",
    "  The same rules apply for quoting as with -i : when in file, **key** fields and **string** fields must be quoted. While as string input, the entire string should be quoted.   "
   ]
  },
  {
   "cell_type": "markdown",
   "metadata": {},
   "source": [
    "###### -u UNIT "
   ]
  },
  {
   "cell_type": "markdown",
   "metadata": {},
   "source": [
    "Show luminosity in the specified unit and scale the output value accordingly. Recognised unit strings are\n",
    "<pre>\n",
    "/kb , 1e21/cm2 , hz/kb , 1e21/cm2s\n",
    "/b  , 1e24/cm2 , hz/b  , 1e24/cm2s\n",
    "/mb , 1e27/cm2 , hz/mb , 1e27/cm2s\n",
    "/ub , 1e30/cm2 , hz/ub , 1e30/cm2s\n",
    "/nb , 1e33/cm2 , hz/nb , 1e33/cm2s\n",
    "/pb , 1e36/cm2 , hz/pb , 1e36/cm2s\n",
    "/fb , 1e39/cm2 , hz/fb , 1e39/cm2s\n",
    "/ab , 1e42/cm2 , hz/ab , 1e42/cm2s\n",
    "</pre>"
   ]
  },
  {
   "cell_type": "markdown",
   "metadata": {},
   "source": [
    "###### --type LUMITYPE"
   ]
  },
  {
   "cell_type": "markdown",
   "metadata": {},
   "source": [
    "Show results from the selected luminometer. Current available choices are hfoc,bcm1f,pltzero,dt,pxl. This option can be skipped if --normtag is specified because every norm tag is bound to a specific luminometer. If option --normtag is present, then --type is ignored.\n",
    "\n",
    "Option --type is **required** if **--without-correction** switch is specified."
   ]
  },
  {
   "cell_type": "markdown",
   "metadata": {},
   "source": [
    "###### --without-correction "
   ]
  },
  {
   "cell_type": "markdown",
   "metadata": {},
   "source": [
    "Show raw data taken by a specific luminometer. --type LUMITYPE must be provided if this switch is specified."
   ]
  },
  {
   "cell_type": "markdown",
   "metadata": {},
   "source": [
    "###### --datatag DATATAG"
   ]
  },
  {
   "cell_type": "markdown",
   "metadata": {},
   "source": [
    "A specific version of lumi and beam data. The initial datatag \"online\" is guaranteed to exist. Other data tags are the patches to its previous version. If not specified, the most recent datatag, i.e. the best version of data, is used.\n",
    "\n",
    "Trigger related data are summary copies of trigger databases, they are not versioned."
   ]
  },
  {
   "cell_type": "markdown",
   "metadata": {},
   "source": [
    "###### --hltpath HLTPATH\n",
    "\n",
    "**HLTPATH** is hlt path name or pattern. The string pattern uses the file system convention fnmatch. \\*, ? ,\\[seq], \\[!seq] operators are recognised. In order not to confuse with the file system, please double quote the hltpath string if there are special char \\*, ?, \\[] \\!"
   ]
  },
  {
   "cell_type": "markdown",
   "metadata": {},
   "source": [
    "Show nominal luminosity scaled down by HLT and L1 prescale factors also taking into account L1 bit masks. Nominal luminosity means that taken during CMS running. \n",
    "\n",
    "This scaling filter has effect on all lumi switches or without, e.g. --byls, --xing. The output format could be different from the default one: one or two fields are removed and replaced with the long HLT path string.\n",
    "\n",
    "Any of the following conditions cause the rejection of a lumisection in the selected path: hlt prescale=0, relavent l1 bits prescale=0 or relavent l1 bits masked.\n",
    "\n",
    "Each output unit is grouped by hlt path name meaning if the output is one per lumi section, then for each of them, all possible hltpaths are shown before changing to the next unit.   "
   ]
  },
  {
   "cell_type": "raw",
   "metadata": {},
   "source": [
    "<div class=\"warn cell\">\n",
    "<p>\n",
    "<strong>Note :</strong> The number of combinatorials of trigger information is huge. If no sufficiently strict --hltpath filter is specified, it is a performance hit on the database and the execution software. If you must use loose filters, switch to csv display style or file might help slightly. \n",
    "</p>\n",
    "</div>"
   ]
  },
  {
   "cell_type": "markdown",
   "metadata": {},
   "source": [
    "###### --ignore-mask switch"
   ]
  },
  {
   "cell_type": "markdown",
   "metadata": {},
   "source": [
    "Switch off the effect of L1 bit masks. This should be used only for debugging purpose. The masks should be considered for the result to be correct.\n"
   ]
  },
  {
   "cell_type": "markdown",
   "metadata": {},
   "source": [
    "###### --without-checkjson switch"
   ]
  },
  {
   "cell_type": "markdown",
   "metadata": {},
   "source": [
    "Switch off cross-checking with the json selection."
   ]
  },
  {
   "cell_type": "markdown",
   "metadata": {},
   "source": [
    "###### --minBiasXsec MINBIASXSEC"
   ]
  },
  {
   "cell_type": "markdown",
   "metadata": {},
   "source": [
    "Specify minimum bias cross section (ub) to use when calculating the average pileup column of the --byls --normtag output. \n",
    "\n",
    "**Note:** the average pileup per lumi section is recalculated only if both --byls --normtag are specified. In other cases, the result shown is what calculated online during data acquisition time and cannot be changed. \n",
    "\n",
    "Reference minbias cross section table:\n",
    "\n",
    "Single Beam E (Gev) | Accelerator mode | minBiasXsec (ub) \n",
    "---  | --- | --- \n",
    "6500 | pp | 80000  \n",
    "2510 | pp | 65000 \n",
    "6370 | pbpb | 7800000 \n",
    "3500 | pp | 71500\n",
    "4000 | pp | 73000\n",
    "5000 | ppb | 2061000\n",
    "8160 | ppb | 2135000"
   ]
  },
  {
   "cell_type": "markdown",
   "metadata": {},
   "source": [
    "<a id='brilcalcbeam'></a>\n",
    "##### beam\n",
    "Subcommand to show beam information (timeinfo, single beam energy, beam intensities, ncolliding bunches) per lumi section.\n",
    "<p>"
   ]
  },
  {
   "cell_type": "markdown",
   "metadata": {},
   "source": [
    "###### --xing switch\n",
    "Show beam intensities per bunch crossing. The bxidx field of the output has the range of [1,3564]"
   ]
  },
  {
   "cell_type": "raw",
   "metadata": {},
   "source": [
    "<div class=\"warn cell\">\n",
    "<p>\n",
    "<strong>Note :</strong> for better performance, it is strongly recommended to use -o OUTPUTFILE or --output-style csv for the --xing option.\n",
    "</p>\n",
    "</div>"
   ]
  },
  {
   "cell_type": "markdown",
   "metadata": {},
   "source": [
    "<a id='brilcalctrg'></a>\n",
    "##### trg\n",
    "Subcommand to show L1, HLT bit/path and prescale information per run/per lumi section. The hlt path shown by this subcommand is constraint to only those potentially relevant to luminosity. Paths containing substring such as \"Calibration\",\"Random\",\"DQM\",\"Physics\",\"Activity\" are ignored.\n",
    "\n",
    "<p>\n",
    "Without any filter options the summary map of the hltconfig to run number is shown. Switches and filter options specific to this subcommand are explained below.\n"
   ]
  },
  {
   "cell_type": "markdown",
   "metadata": {},
   "source": [
    "###### --pathinfo switch\n",
    "Show HLT path and its L1 seed expression as well as the logical relationship between the l1 bits in the expression. Complicated L1seed logics with no simple scaling relationship between L1 bits are excluded. Filter options --hltconfig , -r, --hltpath reduce the output size. "
   ]
  },
  {
   "cell_type": "markdown",
   "metadata": {},
   "source": [
    "###### --prescale switch\n",
    "If no --hltpath filter is specified, show prescale index change during the given run. If --hltpath filter is given, show the real HLT and L1 prescale values of the selected run on the selected hltpath(s). \n",
    "\n",
    "Note: if the selected path is not effective , e.g. prescale=0 or all its seed bits are masked or having prescale=0, no result will be shown. Only truely effective hltpath are shown. You can use the --ignore-mask option to relax the requirement on l1bit masks. But keeping in mind that for the correctness of the result L1 mask should not be ignored, it is the same as prescale value=0."
   ]
  },
  {
   "cell_type": "markdown",
   "metadata": {},
   "source": [
    "###### trg subcommand specific selection options \n",
    "\n",
    "Since L1 and HLT information are not associated with LHC fill numbers, this subcommand supports only one common time selection option -r RUN. "
   ]
  },
  {
   "cell_type": "raw",
   "metadata": {},
   "source": [
    "<div class=\"cmdlines cell\">\n",
    "   <p><strong>-r RUN :</strong> run number \n",
    "   </p>\n",
    "   <p><strong>--hltconfig HLTCONFIG :</strong> numeric hltconfig id or string hltkey. \n",
    "   </p>\n",
    "   <p><strong>--hltpath HLTPATH :</strong> hlt path name or pattern. The string pattern uses the file system convention fnmatch. \\*, ? ,\\[seq], \\[!seq] operators are recognised. \n",
    "   </p>\n",
    "   <p><strong>--ignore-mask :</strong> ignore the effect of masks on L1 bits on prescale values. This should be used only for debugging purpose. \n",
    "   </p>\n",
    "</div>"
   ]
  },
  {
   "cell_type": "raw",
   "metadata": {},
   "source": [
    "<div class=\"warn cell\">\n",
    "<p>\n",
    "<strong>Note :</strong> The number of combinatorials of trigger information is huge. If no sufficiently strict filters are specified, it is a performance hit on the database and the execution software. Therefore using strict filters are recommended. If you must use loose filters, switch to csv display style or file might help a bit. \n",
    "</p>\n",
    "</div>"
   ]
  },
  {
   "cell_type": "markdown",
   "metadata": {},
   "source": [
    "<p style=\"text-align:center\">[Back to Top](#top)"
   ]
  },
  {
   "cell_type": "markdown",
   "metadata": {},
   "source": [
    "<a id='briltag'></a>\n",
    "## briltag\n",
    "<p> \n",
    "\n",
    "Subcommand to manage norm and data tags. Tags are used for versioning.\n",
    "\n",
    "Calibration and correction factors can be applied offline and having different values at different time period. Norm tag describes the function and parameters applied to the raw data. Each correction has its validity in time( run number ).\n",
    "\n",
    "Sometimes the raw data need to be patched. Data tag is the version of the raw data. For the moment, there is only one version \"online\". And the tool is not fully developed for handling data tags.\n"
   ]
  },
  {
   "cell_type": "markdown",
   "metadata": {},
   "source": [
    "##### common command options\n"
   ]
  },
  {
   "cell_type": "markdown",
   "metadata": {},
   "source": [
    "<p> Database connection parameters -c, -p are common. However, one should distinguish readonly and readwrite operations. listxxx commands are readonly therefore -c, -p option values work as normal. insertxxx commands involve database write operations, only BRIL operators can perform it using specific -c, -p parameters."
   ]
  },
  {
   "cell_type": "raw",
   "metadata": {},
   "source": [
    "<div class=\"cmdlines cell\">\n",
    "   <p>\n",
    "   <strong>-c CONNECTION :</strong> database service to connect to. Example choices [\"offline\",\"online\",\"onlinew\",\"dev\"]. The default is \"offline\". \n",
    "   </p>\n",
    "   <p>\n",
    "   <strong>-p AUTHFILE : </strong> database authentication file. \n",
    "   </p>\n",
    "</div>"
   ]
  },
  {
   "cell_type": "markdown",
   "metadata": {},
   "source": [
    "<a id='briltaglistiov'></a>\n",
    "##### listiov\n",
    "Show norm tag info of each luminometer. By default, the summary is shown. With **--name** it shows the detail of the selected tag. \n",
    "<p> Some predefined functions shown below."
   ]
  },
  {
   "cell_type": "markdown",
   "metadata": {},
   "source": [
    "function | description | parammeters\n",
    "--- | --- | ---\n",
    "**poly1d** | polynomial | coefs: array of coefficients\n",
    "**inversepoly1d** | 1/polynomial | coefs: array of coefficients\n",
    "**afterglow** | afterglow correction by bx threshold | afterglowthresholds: array of (nbx threshold,factor)\n",
    "**poly1dWafterflow** | poly1d followed by afterglow correction | coefs, afterglowthresholds\n",
    "**inversepoly1dWafterglow** | product of inverse poly1d and afterglow | coefs, afterglowthresholds\n",
    "**poly2dlL** | polynomial2d c[i,j]\\*x^i*y^j where x=per bunch lumi , y=totallumi | coefs: array of coefficients \n",
    "**poly2dlLWafterglow** | poly2dlL followed by afterglow correction | coefs, afterglowthresholds\n",
    "**afterglowWpoly2dlL** | afterglow correction followed by poly2dlL | coefs, afterglowthresholds"
   ]
  },
  {
   "cell_type": "markdown",
   "metadata": {},
   "source": [
    "**Note** :\n",
    "\n",
    "The correction function is on the **single bunch instantaneous luminosity (SBIL)**. Its effect on the luminosity integrated over all orbits is calculated and applied automatically by the software based on the assumption that the bunches are equally populated. "
   ]
  },
  {
   "cell_type": "markdown",
   "metadata": {},
   "source": [
    "<a id='briltaginsertiov'></a>\n",
    "##### insertiov\n",
    "To insert normtag data into database. Data to insert must be defined in an input file of yaml format and given to the -y option.\n",
    "<p>"
   ]
  },
  {
   "cell_type": "raw",
   "metadata": {},
   "source": [
    "<div class=\"cmdlines cell\">\n",
    "\n",
    "   <p><b>-y YAMLFILE</b> : file defining calibration parameters and corresponding interval of validity. Example input yaml file shown below. Note: yaml format requires correct indentations with no tab char. You can use a <a href=\"http://codebeautify.org/yaml-to-json-xml-csv\">yaml validator</a> to validate the  input data before loading to database.\n",
    "   <pre>\n",
    "        name: pltzerov1\n",
    "        applyto: lumi\n",
    "        datasource: pltzero\n",
    "        istypedefault: 0\n",
    "        comments: from mini vdm\n",
    "        since:\n",
    "            - 246437:\n",
    "                func: poly1d\n",
    "                payload: {'coefs': '0.,0.'}\n",
    "                comments: 2015, egev 6500, PROTPHYS, uncalibrated\n",
    "            - 246908:\n",
    "                func: poly1d\n",
    "                payload: {'coefs': '21.7524,0.'}\n",
    "                comments: 2015, egev 6500, PROTPHYS, magnet off\n",
    "            - 271001:\n",
    "                func: poly2dlL\n",
    "                payload: {'coefs': '[[0,0],[0.00132754,1.175e-12]]'}\n",
    "                comments: with correlated correction of raw and tot_raw\n",
    "   </pre>\n",
    "</div>"
   ]
  },
  {
   "cell_type": "markdown",
   "metadata": {},
   "source": [
    "<a id='briltaglistdata'></a>\n",
    "##### listdata\n",
    "List all data tags\n",
    "<p>"
   ]
  },
  {
   "cell_type": "markdown",
   "metadata": {},
   "source": [
    "<a id='briltaginsertdata'></a>\n",
    "##### insertdata\n",
    "Creat a new data tag. lumi beam data are versioned, trigger data are not. The condition to open a new datatag is if there are old data under the most recent tag for the lumi sections to load (patch). Loading new data to the most recent tag does not require opening a new one. For example, if loading run=1,ls=1 to tag v1 would cause a duplicated id error, then you need to create a data tag v2. \n",
    "<p>"
   ]
  },
  {
   "cell_type": "raw",
   "metadata": {},
   "source": [
    "<div class=\"cmdlines cell\">\n",
    "\n",
    "   <p><strong>--name TAGNAME</strong> : Name of the data tag. \n",
    "   </p>\n",
    "   <p><strong>--comments COMMENTS</strong> : Comments on the tag.\n",
    "   </p>\n",
    "</div>"
   ]
  },
  {
   "cell_type": "markdown",
   "metadata": {},
   "source": [
    "<p style=\"text-align:center\">[Back to Top](#top)"
   ]
  },
  {
   "cell_type": "markdown",
   "metadata": {},
   "source": [
    "<a id='triggerrules'></a>\n",
    "## Appendix A : Trigger Rules\n",
    "<p> \n",
    "\n",
    "Effective luminosity in a given HLT path is : total_luminosity/(HLT_prescale*L1_prescale).\n",
    "\n",
    "Rules on deducing L1 contribution to the total prescale factor :"
   ]
  },
  {
   "cell_type": "markdown",
   "metadata": {},
   "source": [
    "1. Do not consider any masked L1 bit in the seed expression, unless --ignore-mask switch is specified.\n",
    "\n",
    "2. If the path is single seeded, take the seed bit's prescale value.\n",
    "\n",
    "3. If (A.1 OR A.2 OR A.3...) , ignore the triggers with prescale 0, take the minimum of the remaining prescale values.\n",
    "\n",
    "4. If (A AND B AND C...), take the product of the prescale values.\n",
    "\n",
    "5. If NOT, or a combination of AND/OR/NOT, reject this path.\n",
    "\n",
    "6. For HLT_L1seed logic with more than one logical operators, users are considered taking their own risk and should use own judgement.\n",
    "\n",
    "Note: above rules are effective since release 2.1.x. "
   ]
  },
  {
   "cell_type": "markdown",
   "metadata": {},
   "source": [
    "Two suggested by not implemented rules:\n",
    "\n",
    "1. (NOT IMPLEMENTED) If (A.1 OR A.2 OR A.3...) AND (B.1 OR B.2 OR B.3...) AND ... , for each group, take the minimum of the non-zero prescal, or zero if they are all zero. Then the product of the prescales of each group. Note: not implemented means such path are rejected by brilcalc.\n",
    "\n",
    "2. (NOT IMPLEMENTED) In some cases, L1 masks and prescale should be ignored. Note: not implemented means users are expected know about such cases and use --ignore-mask by themselves."
   ]
  },
  {
   "cell_type": "markdown",
   "metadata": {},
   "source": [
    "<p style=\"text-align:center\">[Back to Top](#top)"
   ]
  },
  {
   "cell_type": "code",
   "execution_count": 2,
   "metadata": {
    "collapsed": false
   },
   "outputs": [
    {
     "data": {
      "text/html": [
       "<style>\n",
       "th {\n",
       "    background-color:#55FF33;\n",
       "}\n",
       "td {\n",
       "    background-color:#00FFFF;\n",
       "}\n",
       "div.cell{\n",
       "    width:800px;\n",
       "    margin-left:16% !important;\n",
       "    margin-right:auto;\n",
       "}\n",
       "div.warn {\n",
       "    background-color: #fcf2f2;\n",
       "    border-color: #dFb5b4;\n",
       "    border-left: 5px solid #dfb5b4;\n",
       "    padding: 0.5em;\n",
       "}\n",
       "div.cmdlines{\n",
       "    margin-bottom:1em; \n",
       "    margin-top: 1em; \n",
       "    margin-left: 3em; \n",
       "    padding: 0.5em;\n",
       "    color:#bc6916; \n",
       "    font-weight: 200; \n",
       "    font size: 9pt; \n",
       "    line-height 200%; \n",
       "    font-family: Monospace;\n",
       "    background-color:#ecf0f1;\n",
       "}\n",
       "h1 { \n",
       "    margin-bottom:1em;\n",
       "    margin-top: 1em;\n",
       "    font-family: Helvetica, serif;\n",
       "    color: #444; \n",
       "}\n",
       "h2 { \n",
       "    margin-bottom:1em;\n",
       "    margin-top:1em;\n",
       "    color: #444; \n",
       "}\n",
       "h4{\n",
       "    margin-top:1em;\n",
       "    margin-bottom:1em;\n",
       "    font-size:18pt;\n",
       "}\n",
       "div.text_cell_render{\n",
       "   font-family: \"Helvetica Neue\", Arial, Helvetica, Geneva, sans-serif;\n",
       "   line-height: 145%;\n",
       "   font-size: 100%;\n",
       "   width:800px;\n",
       "   margin-left:auto;\n",
       "   margin-right:auto;\n",
       "}\n",
       ".CodeMirror{\n",
       "    font-family: \"Source Code Pro\", source-code-pro, Consolas,monospace;\n",
       "    font-size: 9pt;\n",
       "    font-weight: 300;\n",
       "    color: #4057A1;\n",
       "    margin-bottom: .5em;\n",
       "    margin-top: 0.5em;\n",
       "}\n",
       ".prompt{\n",
       "    display: None;\n",
       "}\n",
       ".text_cell_render h5{\n",
       "    font-weight: 300;\n",
       "    font-size: 16pt;\n",
       "    color: #4057A1;\n",
       "    font-style: italic;\n",
       "    margin-bottom: .5em;\n",
       "    margin-top: 0.5em;\n",
       "    display: block;\n",
       "}\n",
       "\n",
       ".warning{\n",
       "    color: rgt(240, 20, 20)\n",
       "}\n",
       "\n",
       "div.mynavbar{\n",
       "    margin: 0;\n",
       "    background: #000;\n",
       "    padding: 0;\n",
       "}\n",
       ".my-nav{\n",
       "    margin: 0;\n",
       "    padding: 0;\n",
       "    list-style: none;\n",
       "}\n",
       "\n",
       ".my-nav li{\n",
       "    display: inline;\n",
       "    margin: 0;\n",
       "    float: left;\n",
       "}\n",
       "\n",
       "a.my-nav:link, a.my-nav:visited { \n",
       "    display: block;\n",
       "    padding: .7em 1.2em;\n",
       "    font-weight: bold;\n",
       "    color: white; \n",
       "    background-color: #444;\n",
       "}\n",
       "a.my-nav:focus { color: black; background-color: white; }\n",
       "a.my-nav:hover { color: white; background-color: green; }\n",
       "a.my-nav:active { color: white: background-color: red; }\n",
       "\n",
       "</style>\n"
      ],
      "text/plain": [
       "<IPython.core.display.HTML object>"
      ]
     },
     "execution_count": 2,
     "metadata": {},
     "output_type": "execute_result"
    }
   ],
   "source": [
    "from IPython.core.display import HTML\n",
    "def css_styling():\n",
    "    styles = open('./style/custom.css','r').read()\n",
    "    return HTML(styles)\n",
    "css_styling()"
   ]
  }
 ],
 "metadata": {
  "kernelspec": {
   "display_name": "Python 2",
   "language": "python",
   "name": "python2"
  },
  "language_info": {
   "codemirror_mode": {
    "name": "ipython",
    "version": 2
   },
   "file_extension": ".py",
   "mimetype": "text/x-python",
   "name": "python",
   "nbconvert_exporter": "python",
   "pygments_lexer": "ipython2",
   "version": "2.7.12"
  }
 },
 "nbformat": 4,
 "nbformat_minor": 0
}
