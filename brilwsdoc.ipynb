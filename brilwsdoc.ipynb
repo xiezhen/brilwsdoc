{
 "metadata": {
  "name": "",
  "signature": "sha256:c33941ebfa0ec3e79293ebe8c84be7cf0c06a8f514b472e17d29a3a1cd84bfc5"
 },
 "nbformat": 3,
 "nbformat_minor": 0,
 "worksheets": [
  {
   "cells": [
    {
     "cell_type": "heading",
     "level": 1,
     "metadata": {},
     "source": [
      "BRIL Work Suite User's Guide"
     ]
    },
    {
     "cell_type": "markdown",
     "metadata": {},
     "source": [
      "A commandline toolkit for CMS Beam Radiation Instrumentation and Luminosity (BRIL). \n",
      "\n",
      "The BRIL Work Suite works on top of the python virtual environment brilconda which is a custom build of the <a href=\"https://store.continuum.io/cshop/anaconda/\">Anaconda Scientific Python</a> distribution. \n",
      "\n",
      "As prerequisite, the python virtual environment should be centrally or privately installed.\n"
     ]
    },
    {
     "cell_type": "markdown",
     "metadata": {},
     "source": [
      "<p>\n",
      "**Table Of Contents:**\n",
      "\n",
      "1.   [Prerequisite](#prerequisite)\n",
      "\n",
      "2.   [Installation](#installation)\n",
      "\n",
      "3.   [Command Structure](#commandstructure)\n",
      "\n",
      "4.   [brilcalc](#brilcalc)\n",
      "\n",
      "    *   [lumi](#brilcalclumi)\n",
      "\n",
      "    *   [beam](#brilcalcbeam)\n",
      "\n",
      "<a id='top'></a>"
     ]
    },
    {
     "cell_type": "markdown",
     "metadata": {},
     "source": [
      "<a id='prerequisite'></a>\n",
      "## Prerequisite"
     ]
    },
    {
     "cell_type": "markdown",
     "metadata": {},
     "source": [
      "1.  work with centrally installed virtual environment:\n",
      "    ```\n",
      "    export PATH=$HOME/.local/bin:/afs/cern.ch/cms/lumi/brilconda-1.0.3/bin:$PATH\n",
      "    ```\n",
      "    \n",
      "    or\n",
      "    \n",
      "    ```\n",
      "    export PATH=$HOME/.local/bin:/opt/brilconda/bin:$PATH\n",
      "    ```\n",
      "    \n",
      "2.  privately installation of virtual environment\n",
      "    ```\n",
      "    export PATH=<brilcondabasedir>/bin:$PATH\n",
      "    ```"
     ]
    },
    {
     "cell_type": "markdown",
     "metadata": {},
     "source": [
      "<a id='installation'></a>\n",
      "## Installation"
     ]
    },
    {
     "cell_type": "markdown",
     "metadata": {},
     "source": [
      "### Install brilws"
     ]
    },
    {
     "cell_type": "markdown",
     "metadata": {},
     "source": [
      "#### cern\n",
      "\n",
      "```\n",
      "pip install --install-option=\"--prefix=$HOME/.local\" brilws\n",
      "```\n"
     ]
    },
    {
     "cell_type": "markdown",
     "metadata": {},
     "source": [
      "#### online (on bril host)\n",
      "```\n",
      "pip install --no-index --find-links=file:///nfshome0/lumipro/installers/linux-64 --install-option=\"--prefix=$HOME/.local\" brilws\n",
      "```"
     ]
    },
    {
     "cell_type": "markdown",
     "metadata": {},
     "source": [
      "#### private virtual environment brilconda\n",
      "```\n",
      "pip install brilws\n",
      "```"
     ]
    },
    {
     "cell_type": "markdown",
     "metadata": {},
     "source": [
      "\n",
      "### Uninstall brilws"
     ]
    },
    {
     "cell_type": "markdown",
     "metadata": {},
     "source": [
      "```\n",
      "pip uninstall brilws\n",
      "```"
     ]
    },
    {
     "cell_type": "markdown",
     "metadata": {},
     "source": [
      "\n",
      "<a id='brilconda installation'></a>\n",
      "### Install private virtual environment brilconda (Optional)"
     ]
    },
    {
     "cell_type": "markdown",
     "metadata": {},
     "source": [
      "<p>\n",
      "The virtual environment is centrally installed in two locations:\n",
      "\n",
      "#### CERN afs : /afs/cern.ch/cms/lumi/brilconda*\n",
      "\n",
      "#### bril online cluster : /opt/brilconda\n",
      "\n",
      "If local resource permits, users can choose to install the brilconda environment privately for more control over the working environment. The linux-64 brilconda installer is provided and that for maxos-64 is work in progress. The brilconda installation steps:\n",
      "\n",
      "```\n",
      "wget https://cern.ch/cmslumisw/installers/linux-64/Brilconda-1.0.3-Linux-x86_64.sh\n",
      "```\n",
      "\n",
      "```\n",
      "bash Brilconda-1.0.3-Linux-x86_64.sh -p <localbrilcondabase>\n",
      "```\n",
      "\n",
      "Regardless the location of the installation, the virtual environment is activated whenever its bin directory is in the PATH, and disactivated when the bin directory is not present in the PATH. \n",
      "<p>\n",
      "<div class=warn>\n",
      "**Note:** there is no requirements on the PYTHONPATH nor LD_LIBRARY_PATH to envoke python software.\n",
      "\n",
      "</div>"
     ]
    },
    {
     "cell_type": "markdown",
     "metadata": {},
     "source": [
      "<p style=\"text-align:center\">[Back to Top](#top)"
     ]
    },
    {
     "cell_type": "markdown",
     "metadata": {},
     "source": [
      "\n",
      "<a id='commandstructure'></a>\n",
      "## Commands\n",
      "<p>"
     ]
    },
    {
     "cell_type": "markdown",
     "metadata": {},
     "source": [
      "The commandlines in the work suite are made of main and sub commands. Each subcommand have its independent help menus. For example, brilcalc lumi -h, where brilcalc is the main command, lumi is the subcommand.\n",
      "\n",
      "```\n",
      "brilcalc -h\n",
      "```\n",
      "\n",
      "```\n",
      "brilcalc lumi -h\n",
      "```\n",
      "\n",
      "```\n",
      "brilcalc beam -h\n",
      "```"
     ]
    },
    {
     "cell_type": "markdown",
     "metadata": {},
     "source": [
      "\n",
      "<a id='brilcalc'></a>\n",
      "## brilcalc\n",
      "<p>"
     ]
    },
    {
     "cell_type": "markdown",
     "metadata": {},
     "source": [
      "<a id='common options'></a>\n",
      "##### common command options\n",
      "\n",
      "<p>There are four categories of common command options: selection, filter, output and display, database connection  "
     ]
    },
    {
     "cell_type": "markdown",
     "metadata": {},
     "source": [
      "*  Selections: select on input lumi section, run, fill number or begin/end time in terms of UTC time or fill/run number. These selections can be overlapping. "
     ]
    },
    {
     "cell_type": "markdown",
     "metadata": {},
     "source": [
      "<div class=cmdlines>\n",
      "\n",
      "    <p>**-i INPUTSELECTION** : input lumi section selection json file or string\n",
      "    e.g. \"{123456:[[1,4][6,19]]}\" or dcsonly.json \n",
      "    In the string format, the whole string should be quoted not the run number. The run number in the json file must be quoted.\n",
      "                 \n",
      "   \n",
      "    <p>**--begin BEGIN** : UTC time stamp [MM/DD/YY HH24:MI:SS], fill or run number of the beginning lumi section\n",
      "    \n",
      "    \n",
      "    <p>**--end END** : UTC time stamp [MM/DD/YY HH24:MI:SS], fill or run number of the ending lumi section\n",
      "    \n",
      "    <p>**-f FILLNUM** : fill number\n",
      "     \n",
      "    <p>**-r RUNNUM** : run number\n",
      "    \n",
      "</div>"
     ]
    },
    {
     "cell_type": "markdown",
     "metadata": {},
     "source": [
      "*  Filters: Filter on the result"
     ]
    },
    {
     "cell_type": "markdown",
     "metadata": {},
     "source": [
      "   <div class=cmdlines>\n",
      "    \n",
      "    <p>**-b BEAMSTATUS** : filter on beam status. Choices [\"STABLE BEAMS\", \"FLAT TOP\",\"ADJUST\",\"SQUEEZE\"]\n",
      "    \n",
      "    <p>**--amodetag** : filter on beam mode. Choices [\"PROTPHYS\",\"IONPHYS\", \"PAPHYS\"]\n",
      "    \n",
      "    <p>**--egev** : filter on target single beam energy in GeV. e.g. 1650\n",
      "    \n",
      "   </div>\n",
      "   \n",
      "   "
     ]
    },
    {
     "cell_type": "markdown",
     "metadata": {},
     "source": [
      "*  Output and Display"
     ]
    },
    {
     "cell_type": "markdown",
     "metadata": {},
     "source": [
      "   <div class=cmdlines>\n",
      "   \n",
      "   <p>**-o OUTPUTFILE** : output csv file. \"-\" is the special file stdout. This file output has precedence over the screen display. \n",
      "   \n",
      "   \n",
      "   <p>**--output-style OUTPUT STYLE** : output style on screen. Choices [\"tab\",\"csv\",\"html\"]. This option has no effect if there is already -o option. \n",
      "    \n",
      "    \n",
      "   <p>**-n SCALEFACTOR** : scale the output by the given factor. In the case of lumi subcommond, the unit string is changed accordingly automatically. For example, -n 1000 shows luminosity in unit /nb, -n 1000 in unit /pb, -n 23.31 shows the luminosity in uint Hz/ub. For the beam subcommand, the scaled number will be shown. \n",
      "    \n",
      "    \n",
      "   <p>**--cerntime** : switch to display result time field in cern local time. This switch has no effect on the input time. \n",
      "    \n",
      "    \n",
      "   <p>**--tssec** : swtich to display result time field in unix timestamp. \n",
      "   \n",
      "    </div>"
     ]
    },
    {
     "cell_type": "markdown",
     "metadata": {},
     "source": [
      "*  Database connection"
     ]
    },
    {
     "cell_type": "markdown",
     "metadata": {},
     "source": [
      "   Reasonable default parameters are given, normally users do not need to specify these options.\n",
      "   \n",
      "<div class=cmdlines>\n",
      "\n",
      "   <p>**-c CONNECTION** : database service to connect to. Example choices [\"offline\",\"online\",\"onlinew\",\"dev\"]. The default is \"offline\".\n",
      "   \n",
      "   <p>**-p AUTHFILE** : database authentication file. Normal users do not need to specify this option.\n",
      "</div>"
     ]
    },
    {
     "cell_type": "markdown",
     "metadata": {},
     "source": [
      "\n",
      "<a id='brilcalclumi'></a>\n",
      "##### lumi"
     ]
    },
    {
     "cell_type": "markdown",
     "metadata": {},
     "source": [
      "<p>\n",
      "Subcommand to show luminosity measured by BRIL. By default, the summary of the most best known luminosity is shown. **--byls**, **--xing** options show luminosity by lumi section and per bunch crossing respectively.\n",
      "<p>"
     ]
    },
    {
     "cell_type": "markdown",
     "metadata": {},
     "source": [
      "<div class=warn>\n",
      "**Note:** for better performance, it is strongly recommended to use -o OUTPUTFILE or --output-style csv for the **--xing** option. Because in the case of output csv file or to screen in csv style, the result is streamed out without waiting for the whole display table instance to be fully collected.\n",
      "</div>"
     ]
    },
    {
     "cell_type": "markdown",
     "metadata": {},
     "source": [
      "<p> Other lumi subcommand options:\n",
      "    \n",
      "<div class=cmdlines>\n",
      "\n",
      "    <p>**--type LUMITYPE** : specific luminometer. Choices [\"plt\",\"hfoc\",\"bcm1f\"].\n",
      "    \n",
      "    <p>**--datatag DATATAG** : specific data tag.\n",
      "    \n",
      "    <p>**--normtag NORMTAG** : specific lumi normalization tag.\n",
      "    \n",
      "    <p>**--without-correction** : switch to raw data without normalization\n",
      "    \n",
      "</div>"
     ]
    },
    {
     "cell_type": "markdown",
     "metadata": {},
     "source": [
      "<p style=\"text-align:center\">[Back to Top](#top)"
     ]
    },
    {
     "cell_type": "markdown",
     "metadata": {},
     "source": [
      "<a id='brilcalcbeam'></a>\n",
      "##### beam\n",
      "Subcommand to show beam information as collected by BRIL. By default, the summary of the beam information is shown, **--xing** option show beam intensities by lumi section and per bunch crossing. \n",
      "<p>"
     ]
    },
    {
     "cell_type": "markdown",
     "metadata": {},
     "source": [
      "<div class=warn>\n",
      "<p>\n",
      "**Note:** for better performance, it is strongly recommended to use -o OUTPUTFILE or --output-style csv for the --xing option.\n",
      "</div>"
     ]
    },
    {
     "cell_type": "markdown",
     "metadata": {},
     "source": [
      "<p style=\"text-align:center\">[Back to Top](#top)"
     ]
    },
    {
     "cell_type": "code",
     "collapsed": false,
     "input": [
      "from IPython.core.display import HTML\n",
      "def css_styling():\n",
      "    styles = open('./style/custom.css','r').read()\n",
      "    return HTML(styles)\n",
      "css_styling()"
     ],
     "language": "python",
     "metadata": {},
     "outputs": [
      {
       "html": [
        "<style>\n",
        "th {\n",
        "    background-color:#55FF33;\n",
        "}\n",
        "td {\n",
        "    background-color:#00FFFF;\n",
        "}\n",
        "div.cell{\n",
        "    width:800px;\n",
        "    margin-left:16% !important;\n",
        "    margin-right:auto;\n",
        "}\n",
        "div.warn {\n",
        "    background-color: #fcf2f2;\n",
        "    border-color: #dFb5b4;\n",
        "    border-left: 5px solid #dfb5b4;\n",
        "    padding: 0.5em;\n",
        "}\n",
        "div.cmdlines{\n",
        "    margin-bottom:1em; \n",
        "    margin-top: 1em; \n",
        "    margin-left: 3em; \n",
        "    padding: 0.5em;\n",
        "    color:#bc6916; \n",
        "    font-weight: 200; \n",
        "    font size: 9pt; \n",
        "    line-height 200%; \n",
        "    font-family: Monospace;\n",
        "    background-color:#ecf0f1;\n",
        "}\n",
        "h1 { \n",
        "    margin-bottom:1em;\n",
        "    margin-top: 1em;\n",
        "    font-family: Helvetica, serif;\n",
        "    color: #444; \n",
        "}\n",
        "h2 { \n",
        "    margin-bottom:1em;\n",
        "    margin-top:1em;\n",
        "    color: #444; \n",
        "}\n",
        "h4{\n",
        "    margin-top:1em;\n",
        "    margin-bottom:1em;\n",
        "    font-size:18pt;\n",
        "}\n",
        "div.text_cell_render{\n",
        "   font-family: \"Helvetica Neue\", Arial, Helvetica, Geneva, sans-serif;\n",
        "   line-height: 145%;\n",
        "   font-size: 100%;\n",
        "   width:800px;\n",
        "   margin-left:auto;\n",
        "   margin-right:auto;\n",
        "}\n",
        ".CodeMirror{\n",
        "    font-family: \"Source Code Pro\", source-code-pro, Consolas,monospace;\n",
        "    font-size: 9pt;\n",
        "    font-weight: 300;\n",
        "    color: #4057A1;\n",
        "    margin-bottom: .5em;\n",
        "    margin-top: 0.5em;\n",
        "}\n",
        ".prompt{\n",
        "    display: None;\n",
        "}\n",
        ".text_cell_render h5{\n",
        "    font-weight: 300;\n",
        "    font-size: 16pt;\n",
        "    color: #4057A1;\n",
        "    font-style: italic;\n",
        "    margin-bottom: .5em;\n",
        "    margin-top: 0.5em;\n",
        "    display: block;\n",
        "}\n",
        "\n",
        ".warning{\n",
        "    color: rgt(240, 20, 20)\n",
        "}\n",
        "</style>\n"
       ],
       "metadata": {},
       "output_type": "pyout",
       "prompt_number": 1,
       "text": [
        "<IPython.core.display.HTML at 0x105d57790>"
       ]
      }
     ],
     "prompt_number": 1
    }
   ],
   "metadata": {}
  }
 ]
}