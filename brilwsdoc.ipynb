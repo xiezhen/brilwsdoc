{
 "metadata": {
  "name": "",
  "signature": "sha256:71b085929ddca1060c06503a9686cc3ee4f0c0193060bc025888df2ce7375dff"
 },
 "nbformat": 3,
 "nbformat_minor": 0,
 "worksheets": [
  {
   "cells": [
    {
     "cell_type": "heading",
     "level": 1,
     "metadata": {},
     "source": [
      "BRIL Work Suite "
     ]
    },
    {
     "cell_type": "markdown",
     "metadata": {},
     "source": [
      "<div class=mynavbar>\n",
      "<ul class=\"my-nav\">\n",
      "<li><a class=\"my-nav\" href=\"http://cms-service-lumi.web.cern.ch/cms-service-lumi/dbrss.xml\">News</a></li>\n",
      "<li><a class=\"my-nav\" href=\"http://cms-service-lumi.web.cern.ch/cms-service-lumi/releaserss.xml\">Releases</a></li>\n",
      "<li><a class=\"my-nav\" href=\"http://cms-service-lumi.web.cern.ch/cms-service-lumi/brilwsdocs.html\">Docs</a></li>\n",
      "</ul>\n",
      "</div>"
     ]
    },
    {
     "cell_type": "markdown",
     "metadata": {},
     "source": [
      "<hr>\n",
      "\n",
      "A commandline toolkit for CMS Beam Radiation Instrumentation and Luminosity (BRIL). \n",
      "\n",
      "The BRIL Work Suite works on top of the python virtual environment brilconda which is a custom build of the <a href=\"https://store.continuum.io/cshop/anaconda/\">Anaconda Scientific Python</a> distribution. \n",
      "\n",
      "As prerequisite, the python virtual environment should be centrally or privately installed.\n",
      "\n",
      "And there is NO requirement on the PYTHONPATH nor LD_LIBRARY_PATH to envoke the software.\n",
      "\n",
      "</hr>"
     ]
    },
    {
     "cell_type": "markdown",
     "metadata": {},
     "source": [
      "##### Documentation for release 2.0.x\n",
      "<p>\n",
      "**Table Of Contents:**\n",
      "\n",
      "1.   [Prerequisite](#prerequisite)\n",
      "\n",
      "2.   [Installation](#installation)\n",
      "\n",
      "3.   [Command Structure](#commandstructure)\n",
      "\n",
      "4.   [brilcalc](#brilcalc)\n",
      "\n",
      "    *   [lumi](#brilcalclumi)\n",
      "\n",
      "    *   [beam](#brilcalcbeam)\n",
      "     \n",
      "    *   [trg](#brilcalctrg)\n",
      "    \n",
      "5.   [briltag](#briltag) \n",
      "    *   [listiov](#briltaglistiov)\n",
      "    *   [insertiov](#briltaginsertiov)\n",
      "    *   [listdata](#briltaglistdata)\n",
      "    *   [insertdata](#briltaginsertdata)\n",
      "<a id='top'></a>"
     ]
    },
    {
     "cell_type": "markdown",
     "metadata": {},
     "source": [
      "<a id='prerequisite'></a>\n",
      "## Prerequisite\n",
      "\n",
      "   **This word means a prior condition for all instructions in the following sections**"
     ]
    },
    {
     "cell_type": "markdown",
     "metadata": {},
     "source": [
      "1.  work with centrally installed virtual environment on lxplus:\n",
      "    ```\n",
      "    export PATH=$HOME/.local/bin:/afs/cern.ch/cms/lumi/brilconda-1.0.3/bin:$PATH (bash)\n",
      "    \n",
      "    ```\n",
      "    \n",
      "2.  work with central installationon bril online cluster in .cms\n",
      "    \n",
      "    ```\n",
      "    export PATH=$HOME/.local/bin:/nfshome0/lumipro/brilconda/bin:$PATH    (bash)\n",
      "    ```\n",
      "    \n",
      "3.  privately installation of virtual environment\n",
      "    ```\n",
      "    export PATH=<brilcondabasedir>/bin:$PATH       (bash)\n",
      "    ```"
     ]
    },
    {
     "cell_type": "markdown",
     "metadata": {},
     "source": [
      "<a id='installation'></a>\n",
      "## Installation \n",
      "**Please do not attempt this if the prerequisite condition is not satisfied**"
     ]
    },
    {
     "cell_type": "markdown",
     "metadata": {},
     "source": [
      "### Install brilws"
     ]
    },
    {
     "cell_type": "markdown",
     "metadata": {},
     "source": [
      "#### cern\n",
      "\n",
      "```\n",
      "pip install --install-option=\"--prefix=$HOME/.local\" brilws\n",
      "```\n"
     ]
    },
    {
     "cell_type": "markdown",
     "metadata": {},
     "source": [
      "#### online (on bril host)\n",
      "```\n",
      "pip install --no-index --find-links=file:///nfshome0/lumipro/installers/linux-64 --install-option=\"--prefix=$HOME/.local\" brilws\n",
      "```"
     ]
    },
    {
     "cell_type": "markdown",
     "metadata": {},
     "source": [
      "#### private virtual environment brilconda\n",
      "```\n",
      "pip install brilws\n",
      "```"
     ]
    },
    {
     "cell_type": "markdown",
     "metadata": {},
     "source": [
      "### Install a specific version"
     ]
    },
    {
     "cell_type": "markdown",
     "metadata": {},
     "source": [
      "Specify the version of the package with == operator: e.g. brilws==0.1.0"
     ]
    },
    {
     "cell_type": "markdown",
     "metadata": {},
     "source": [
      "\n",
      "### Uninstall brilws \n",
      "**Please do not attempt this if prerequisite condition is not satisfied**"
     ]
    },
    {
     "cell_type": "markdown",
     "metadata": {},
     "source": [
      "```\n",
      "pip uninstall brilws\n",
      "```"
     ]
    },
    {
     "cell_type": "markdown",
     "metadata": {},
     "source": [
      "### Check most recent version (Please check prerequisite condition is satisfied before anything)"
     ]
    },
    {
     "cell_type": "markdown",
     "metadata": {},
     "source": [
      "```\n",
      "pip show brilws\n",
      "```"
     ]
    },
    {
     "cell_type": "markdown",
     "metadata": {},
     "source": [
      "\n",
      "<a id='brilconda installation'></a>\n",
      "### Install private virtual environment brilconda (Optional)\n",
      "**Please do not attempt this if prerequisite condition is not satisfied**"
     ]
    },
    {
     "cell_type": "markdown",
     "metadata": {},
     "source": [
      "<p>\n",
      "The virtual environment is centrally installed in two locations:\n",
      "\n",
      "#### CERN afs : /afs/cern.ch/cms/lumi/brilconda*\n",
      "\n",
      "#### bril online cluster : /opt/brilconda\n",
      "\n",
      "If local resource permits, users can choose to install the brilconda environment privately for more control over the working environment. The linux-64 brilconda installer is provided and that for maxos-64 is work in progress. The brilconda installation steps:\n",
      "\n",
      "```\n",
      "wget https://cern.ch/cmslumisw/installers/linux-64/Brilconda-1.0.3-Linux-x86_64.sh\n",
      "```\n",
      "\n",
      "```\n",
      "bash Brilconda-1.0.3-Linux-x86_64.sh -p <localbrilcondabase>\n",
      "```\n",
      "\n",
      "Regardless the location of the installation, the virtual environment is activated whenever its bin directory is in the PATH, and disactivated when the bin directory is not present in the PATH. \n",
      "<p>\n",
      "<div class=warn>\n",
      "**Note:** there is no requirements on the PYTHONPATH nor LD_LIBRARY_PATH to envoke python software.\n",
      "\n",
      "</div>"
     ]
    },
    {
     "cell_type": "markdown",
     "metadata": {},
     "source": [
      "<p style=\"text-align:center\">[Back to Top](#top)"
     ]
    },
    {
     "cell_type": "markdown",
     "metadata": {},
     "source": [
      "\n",
      "<a id='commandstructure'></a>\n",
      "## Commands\n",
      "<p>\n",
      "\n",
      "**Please do not attempt anything bellow if prerequisite condition is not satisfied**"
     ]
    },
    {
     "cell_type": "markdown",
     "metadata": {},
     "source": [
      "The commandlines in the work suite are made of main and sub commands. Each subcommand have its independent help menus. For example, brilcalc lumi -h, where brilcalc is the main command, lumi is the subcommand.\n",
      "\n",
      "```\n",
      "brilcalc -h\n",
      "```\n",
      "\n",
      "```\n",
      "briltag -h\n",
      "```\n",
      "\n",
      "```\n",
      "brilcalc lumi -h\n",
      "```\n",
      "\n",
      "```\n",
      "brilcalc beam -h\n",
      "```\n",
      "\n",
      "```\n",
      "brilcalc trg -h\n",
      "```"
     ]
    },
    {
     "cell_type": "markdown",
     "metadata": {},
     "source": [
      "\n",
      "<a id='brilcalc'></a>\n",
      "## brilcalc\n",
      "<p>"
     ]
    },
    {
     "cell_type": "markdown",
     "metadata": {},
     "source": [
      "<a id='common options'></a>\n",
      "##### common command options\n",
      "\n",
      "<p>There are four categories of common command options: selection, filter, output and display, database connection  "
     ]
    },
    {
     "cell_type": "markdown",
     "metadata": {},
     "source": [
      "*  Selections: select on input lumi section, run, fill number or begin/end time in terms of UTC time or fill/run number. These selections can be overlapping. "
     ]
    },
    {
     "cell_type": "markdown",
     "metadata": {},
     "source": [
      "<div class=cmdlines>\n",
      "\n",
      "    <p>**-i INPUTSELECTION** : input lumi section selection file or string format \n",
      "    {run:[[startls,stopls],[startls,stopls],...]} \n",
      "   \n",
      "   </p>\n",
      "   <p>\n",
      "    In the string input, the whole string should be quoted not the run number, e.g. \"{123456:[[1,4][6,19]]}\". In the file input, the run number field must be quoted. \n",
      "   </p>\n",
      "   <p> \n",
      "    By default, the command checks the lumi sections specified by the -i option against those actually returned as result and print out the list of mismatches. This feature can be switched off with **--without-checkjson**.\n",
      "    </p>    \n",
      "    <p>**--begin BEGIN** : UTC time stamp MM/DD/YY HH24:MI:SS, fill or run number of the beginning lumi section\n",
      "    \n",
      "    <p>**--end END** : UTC time stamp MM/DD/YY HH24:MI:SS, fill or run number of the ending lumi section\n",
      "    \n",
      "    <p>**-f FILLNUM** : fill number\n",
      "     \n",
      "    <p>**-r RUNNUM** : run number\n",
      "    \n",
      "</div>"
     ]
    },
    {
     "cell_type": "markdown",
     "metadata": {},
     "source": [
      "*  Filters: Filter on the result"
     ]
    },
    {
     "cell_type": "markdown",
     "metadata": {},
     "source": [
      "   <div class=cmdlines>\n",
      "    \n",
      "    <p>**-b BEAMSTATUS** : filter on beam status. Choices [\"STABLE BEAMS\", \"FLAT TOP\",\"ADJUST\",\"SQUEEZE\"]\n",
      "    \n",
      "    <p>**--amodetag AMODETAG** : filter on machine mode. Choices [\"PROTPHYS\",\"IONPHYS\", \"PAPHYS\"]\n",
      "    \n",
      "    <p>**--egev EGEV** : filter on target single beam energy in GeV. e.g. 1650\n",
      "    \n",
      "   </div>\n",
      "   \n",
      "   "
     ]
    },
    {
     "cell_type": "markdown",
     "metadata": {},
     "source": [
      "*  Output and Display"
     ]
    },
    {
     "cell_type": "markdown",
     "metadata": {},
     "source": [
      "   <div class=cmdlines>\n",
      "   \n",
      "   <p>**-o OUTPUTFILE** : output csv file. \"-\" is the special file stdout. This file output has precedence over the screen display. \n",
      "   \n",
      "   \n",
      "   <p>**--output-style OUTPUT STYLE** : output style on screen. Choices [\"tab\",\"csv\",\"html\"]. This option has no effect if there is already -o option. \n",
      "    \n",
      "    \n",
      "   <p>**-n SCALEFACTOR** : apply the scalefactor 1./n to the output. Contrary to older releases, it does NOT automatically change the output luminosity unit.\n",
      "    \n",
      "   <p>**--cerntime** : switch to display result time field in cern local time. This switch has no effect on the input time. \n",
      "    \n",
      "    \n",
      "   <p>**--tssec** : switch to display result time field in unix timestamp. \n",
      "   \n",
      "    </div>"
     ]
    },
    {
     "cell_type": "markdown",
     "metadata": {},
     "source": [
      "*  Database connection"
     ]
    },
    {
     "cell_type": "markdown",
     "metadata": {},
     "source": [
      "   Reasonable default parameters are given, readonly users do not need to specify these options.\n",
      "   \n",
      "<div class=cmdlines>\n",
      "\n",
      "   <p>**-c CONNECTION** : database service to connect to. Example choices [\"offline\",\"online\",\"onlinew\",\"dev\"]. The default is \"offline\".\n",
      "   \n",
      "   <p>**-p AUTHFILE** : database authentication file. Normal users do not need to specify this option.\n",
      "</div>"
     ]
    },
    {
     "cell_type": "markdown",
     "metadata": {},
     "source": [
      "\n",
      "<a id='brilcalclumi'></a>\n",
      "##### lumi"
     ]
    },
    {
     "cell_type": "markdown",
     "metadata": {},
     "source": [
      "<p>\n",
      "Subcommand to show luminosity measured by BRIL. By default, the summary of the best known luminosity is shown. Switches and options specific to the subcommand are explained below.\n",
      "<p>"
     ]
    },
    {
     "cell_type": "markdown",
     "metadata": {},
     "source": [
      "###### --byls switch\n",
      "Show luminosity by lumi section "
     ]
    },
    {
     "cell_type": "markdown",
     "metadata": {},
     "source": [
      "###### --xing switch\n",
      "Show luminosity by lumi section and per bunch crossing. The bxidx field of the output has the range of [1,3564]. More often not all 3564 possible bunches are interesting. Three filters can be specified with this switch to reduce the total output. The filters can be applied accumulatively."
     ]
    },
    {
     "cell_type": "markdown",
     "metadata": {},
     "source": [
      "* Bunch filters specific to --xing switch"
     ]
    },
    {
     "cell_type": "markdown",
     "metadata": {},
     "source": [
      "<div class=cmdlines>\n",
      "   \n",
      "   <p>**--xingId BXID** : select bunch by id. Input can be a single number, a comma separated list in file or string format. e.g. --xingId \"1,2,3\"\n",
      "   \n",
      "   \n",
      "   <p>**--xingTr BXTHRESHOLD** : select bunch with luminosity above the specified fraction of the max bx lumi. Input is a float number between 0 and 1. e.g. 0.85. \n",
      "    \n",
      "    \n",
      "   <p>**--xingMin XINGMIN** : select bunch with luminosity greater than the specified value. Note: any scaling effect from -n or -u options are already taken into account. The specified min value cut is applied to the final number.\n",
      "   \n",
      "    </div>"
     ]
    },
    {
     "cell_type": "markdown",
     "metadata": {},
     "source": [
      "<div class=warn>\n",
      "**Note:** for better performance, it is strongly recommended to use -o OUTPUTFILE or --output-style csv for the **--xing** option. Because in the case of csv output (to file or to screen), the result is streamed out without waiting for the whole display table instance to be fully collected.\n",
      "</div>"
     ]
    },
    {
     "cell_type": "markdown",
     "metadata": {},
     "source": [
      "###### --normtag NORMTAG"
     ]
    },
    {
     "cell_type": "markdown",
     "metadata": {},
     "source": [
      "Apply calibration/correction function defined by a tag. Each norm tag is bound to a specific luminometer. By using the tag, you automatically select a luminometer.\n",
      "\n",
      "When selecting data from a combination of luminometers, a json format file or string is accepted (specified below). In this case, both -i and --normtag options can select run and lumi sections. When both given, the **intersection** of the two are used. Also, it is required that --normtag selection is a superset of the -i selection. On failing this check, warning messages will be printed but the program does not stop. "
     ]
    },
    {
     "cell_type": "markdown",
     "metadata": {},
     "source": [
      "   The composite selection is a list of lists as described below:\n",
      "\n",
      "<pre>\n",
      "  [\n",
      "    [normtag,{run:[[startls,stopls],[startls,stopls]...]} | run, run, ... ], \n",
      "    [normtag,{run:[[startls,stopls],[startls,stopls]...]} | run, run, ... ], \n",
      "    ...\n",
      "  ]\n",
      "</pre>\n",
      "  Run, ls selection matrices follow each normtag in which the chosen lumi sections are valid. \n",
      " \n",
      "  Here \"|\" means \"or\". Flat format of the inner list [normtag, run, run,...] is a shortcut to indicate that all lumi sections in the run are selected. Internally each run number string is translated to {run:[[1,999999]]}.\n",
      "Example below:\n",
      "\n",
      "<pre>\n",
      "  [ [\"bcm1fv1\",{\"251118\":[[1,20]]}],\n",
      "    [\"hfocv1\",{\"251118\":[[21,21]]}],\n",
      "    [\"bcm1fv1\",{\"251118\":[[22,24]]}],\n",
      "    [\"bcm1fv1\",\"251119\",\"251131\"],\n",
      "    [\"hfocv1\",\"251134\"],\n",
      "    [\"bcm1fv1\",\"251167\"],\n",
      "    [\"hfocv1\",\"251168\"]\n",
      "  ]\n",
      "</pre>\n",
      "\n",
      "  When this type of selection file is given --type argument has no more have effects.\n",
      "\n",
      "  The same rules apply for quoting as with -i : when in file, **key** fields and **string** fields must be quoted. While as string input, the entire string should be quoted.   "
     ]
    },
    {
     "cell_type": "markdown",
     "metadata": {},
     "source": [
      "###### -u UNIT "
     ]
    },
    {
     "cell_type": "markdown",
     "metadata": {},
     "source": [
      "Show luminosity in the specified unit and scale the output value accordingly. Recognised unit strings are\n",
      "<pre>\n",
      "/kb , 1e21/cm2 , hz/kb , 1e21/cm2s\n",
      "/b  , 1e24/cm2 , hz/b  , 1e24/cm2s\n",
      "/mb , 1e27/cm2 , hz/mb , 1e27/cm2s\n",
      "/ub , 1e30/cm2 , hz/ub , 1e30/cm2s\n",
      "/nb , 1e33/cm2 , hz/nb , 1e33/cm2s\n",
      "/pb , 1e36/cm2 , hz/pb , 1e36/cm2s\n",
      "/fb , 1e39/cm2 , hz/fb , 1e39/cm2s\n",
      "/ab , 1e42/cm2 , hz/ab , 1e42/cm2s\n",
      "</pre>"
     ]
    },
    {
     "cell_type": "markdown",
     "metadata": {},
     "source": [
      "###### --type LUMITYPE"
     ]
    },
    {
     "cell_type": "markdown",
     "metadata": {},
     "source": [
      "Show results from the selected luminometer. Current available choices are hfoc,bcm1f,pltzero,dt,pxl. This option can be skipped if --normtag is specified because every norm tag is bound to a specific luminometer. If option --normtag is present, then --type is ignored.\n",
      "\n",
      "Option --type is **required** if **--without-correction** switch is specified."
     ]
    },
    {
     "cell_type": "markdown",
     "metadata": {},
     "source": [
      "###### --without-correction "
     ]
    },
    {
     "cell_type": "markdown",
     "metadata": {},
     "source": [
      "Show raw data taken by a specific luminometer. --type LUMITYPE must be provided if this switch is specified."
     ]
    },
    {
     "cell_type": "markdown",
     "metadata": {},
     "source": [
      "###### --datatag DATATAG"
     ]
    },
    {
     "cell_type": "markdown",
     "metadata": {},
     "source": [
      "A specific version of lumi and beam data. The initial datatag \"online\" is guaranteed to exist. Other data tags are the patches to its previous version. If not specified, the most recent datatag, i.e. the best version of data, is used.\n",
      "\n",
      "Trigger related data are summary copies of trigger databases, they are not versioned."
     ]
    },
    {
     "cell_type": "markdown",
     "metadata": {},
     "source": [
      "###### --hltpath HLTPATH\n",
      "\n",
      "**HLTPATH** is hlt path name or pattern. The string pattern uses the file system convention fnmatch. \\*, ? ,\\[seq], \\[!seq] operators are recognised. In order not to confuse with the file system, please double quote the hltpath string if there are special char \\*, ?, \\[] \\!"
     ]
    },
    {
     "cell_type": "markdown",
     "metadata": {},
     "source": [
      "Show nominal luminosity scaled down by HLT and L1 prescale factors also taking into account L1 bit masks. Nominal luminosity means that taken during CMS running. \n",
      "\n",
      "This scaling filter has effect on all lumi switches or without, e.g. --byls, --xing. The output format could be different from the default one: one or two fields are removed and replaced with the long HLT path string.\n",
      "\n",
      "Any of the following conditions cause the rejection of a lumisection in the selected path: hlt prescale=0, relavent l1 bits prescale=0 or relavent l1 bits masked.\n",
      "\n",
      "Each output unit is grouped by hlt path name meaning if the output is one per lumi section, then for each of them, all possible hltpaths are shown before changing to the next unit.   "
     ]
    },
    {
     "cell_type": "markdown",
     "metadata": {},
     "source": [
      "<div class=warn>\n",
      "<p>\n",
      "**Note:** The number of combinatorials of trigger information is huge. If no sufficiently strict --hltpath filter is specified, it is a performance hit on the database and the execution software. If you must use loose filters, switch to csv display style or file might help slightly. \n",
      "</div>"
     ]
    },
    {
     "cell_type": "markdown",
     "metadata": {},
     "source": [
      "###### --ignore-mask switch"
     ]
    },
    {
     "cell_type": "markdown",
     "metadata": {},
     "source": [
      "Switch off the effect of L1 bit masks. This should be used only for debugging purpose. The masks should be considered for the result to be correct.\n"
     ]
    },
    {
     "cell_type": "markdown",
     "metadata": {},
     "source": [
      "###### --without-checkjson switch"
     ]
    },
    {
     "cell_type": "markdown",
     "metadata": {},
     "source": [
      "Switch off cross-checking with the json selection."
     ]
    },
    {
     "cell_type": "markdown",
     "metadata": {},
     "source": [
      "###### --minBiasXsec MINBIASXSEC"
     ]
    },
    {
     "cell_type": "markdown",
     "metadata": {},
     "source": [
      "Specify minimum bias cross section (ub) to use when calculating the average pileup column of the --byls --normtag output. \n",
      "\n",
      "**Note:** the average pileup per lumi section is recalculated only if both --byls --normtag are specified. In other cases, the result shown is what calculated online during data acquisition time and cannot be changed. \n",
      "\n",
      "Reference minbias cross section table:\n",
      "\n",
      "Single Beam E (Gev) | Accelerator mode | minBiasXsec (ub) \n",
      "---  | --- | --- \n",
      "6500 | pp | 80000  \n",
      "2510 | pp | 65000 \n",
      "6370 | pbpb | 7800000 \n",
      "3500 | pp | 71500\n",
      "4000 | pp | 73000\n"
     ]
    },
    {
     "cell_type": "markdown",
     "metadata": {},
     "source": [
      "<a id='brilcalcbeam'></a>\n",
      "##### beam\n",
      "Subcommand to show beam information (timeinfo, single beam energy, beam intensities, ncolliding bunches) per lumi section.\n",
      "<p>"
     ]
    },
    {
     "cell_type": "markdown",
     "metadata": {},
     "source": [
      "###### --xing switch\n",
      "Show beam intensities per bunch crossing. The bxidx field of the output has the range of [1,3564]"
     ]
    },
    {
     "cell_type": "markdown",
     "metadata": {},
     "source": [
      "<div class=warn>\n",
      "<p>\n",
      "**Note:** for better performance, it is strongly recommended to use -o OUTPUTFILE or --output-style csv for the --xing option.\n",
      "</div>"
     ]
    },
    {
     "cell_type": "markdown",
     "metadata": {},
     "source": [
      "<a id='brilcalctrg'></a>\n",
      "##### trg\n",
      "Subcommand to show L1, HLT bit/path and prescale information per run/per lumi section. The hlt path shown by this subcommand is constraint to only those potentially relevant to luminosity. Paths containing substring such as \"Calibration\",\"Random\",\"DQM\",\"Physics\",\"Activity\" are ignored.\n",
      "\n",
      "<p>\n",
      "Without any filter options the summary map of the hltconfig to run number is shown. Switches and filter options specific to this subcommand are explained below.\n"
     ]
    },
    {
     "cell_type": "markdown",
     "metadata": {},
     "source": [
      "###### --pathinfo switch\n",
      "Show HLT path and its L1 seed expression as well as the logical relationship between the l1 bits in the expression. Complicated L1seed logics with no simple scaling relationship between L1 bits are excluded. Filter options --hltconfig , -r, --hltpath reduce the output size. "
     ]
    },
    {
     "cell_type": "markdown",
     "metadata": {},
     "source": [
      "###### --prescale switch\n",
      "If no --hltpath filter is specified, show prescale index change during the given run. If --hltpath filter is given, show the real HLT and L1 prescale values of the selected run on the selected hltpath(s). \n",
      "\n",
      "Note: if the selected path is not effective , e.g. prescale=0 or all its seed bits are masked or having prescale=0, no result will be shown. Only truely effective hltpath are shown. You can use the --ignore-mask option to relax the requirement on l1bit masks. But keeping in mind that for the correctness of the result L1 mask should not be ignored, it is the same as prescale value=0."
     ]
    },
    {
     "cell_type": "markdown",
     "metadata": {},
     "source": [
      "###### trg subcommand specific selection options \n",
      "\n",
      "Since L1 and HLT information are not associated with LHC fill numbers, this subcommand supports only one common time selection option -r RUN. "
     ]
    },
    {
     "cell_type": "markdown",
     "metadata": {},
     "source": [
      "###### \n",
      "<div class=cmdlines>\n",
      "\n",
      "   <p>**-r RUN** : run number \n",
      "   \n",
      "   <p>**--hltconfig HLTCONFIG** : numeric hltconfig id or string hltkey. \n",
      "   \n",
      "   <p>**--hltpath HLTPATH** : hlt path name or pattern. The string pattern uses the file system convention fnmatch. \\*, ? ,\\[seq], \\[!seq] operators are recognised. \n",
      "   \n",
      "   <p>**--ignore-mask** : ignore the effect of masks on L1 bits on prescale values. This should be used only for debugging purpose. \n",
      "   \n",
      "</div>"
     ]
    },
    {
     "cell_type": "markdown",
     "metadata": {},
     "source": [
      "<div class=warn>\n",
      "<p>\n",
      "**Note:** The number of combinatorials of trigger information is huge. If no sufficiently strict filters are specified, it is a performance hit on the database and the execution software. Therefore using strict filters are recommended. If you must use loose filters, switch to csv display style or file might help a bit. \n",
      "</div>"
     ]
    },
    {
     "cell_type": "markdown",
     "metadata": {},
     "source": [
      "<p style=\"text-align:center\">[Back to Top](#top)"
     ]
    },
    {
     "cell_type": "markdown",
     "metadata": {},
     "source": [
      "<a id='briltag'></a>\n",
      "## briltag\n",
      "<p> \n",
      "\n",
      "Subcommand to manage norm and data tags. Tags are used for versioning.\n",
      "\n",
      "Calibration and correction factors can be applied offline and having different values at different time period. Norm tag describes the function and parameters applied to the raw data. Each correction has its validity in time( run number ).\n",
      "\n",
      "Sometimes the raw data need to be patched. Data tag is the version of the raw data. For the moment, there is only one version \"online\". And the tool is not fully developed for handling data tags.\n"
     ]
    },
    {
     "cell_type": "markdown",
     "metadata": {},
     "source": [
      "##### common command options\n"
     ]
    },
    {
     "cell_type": "markdown",
     "metadata": {},
     "source": [
      "<p> Database connection parameters -c, -p are common. However, one should distinguish readonly and readwrite operations. listxxx commands are readonly therefore -c, -p option values work as normal. insertxxx commands involve database write operations, only BRIL operators can perform it using specific -c, -p parameters.\n",
      "\n",
      "<div class=cmdlines>\n",
      "   <p>\n",
      "   **-c CONNECTION** : database service to connect to. Example choices [\"offline\",\"online\",\"onlinew\",\"dev\"]. The default is \"offline\". \n",
      "   \n",
      "   <p>\n",
      "   **-p AUTHFILE** : database authentication file. \n",
      "   \n",
      "</div>"
     ]
    },
    {
     "cell_type": "markdown",
     "metadata": {},
     "source": [
      "<a id='briltaglistiov'></a>\n",
      "##### listiov\n",
      "Show norm tag info of each luminometer. By default, the summary is shown. With **--name** it shows the detail of the selected tag. \n",
      "<p> Some predefined functions shown below."
     ]
    },
    {
     "cell_type": "markdown",
     "metadata": {},
     "source": [
      "function | description | parammeters\n",
      "--- | --- | ---\n",
      "**poly1d** | polynomial | coefs: array of coefficients\n",
      "**inversepoly1d** | 1/polynomial | coefs: array of coefficients\n",
      "**afterglow** | afterglow correction by bx threshold | afterglowthresholds: array of (nbx threshold,factor)\n",
      "**poly1dWafterflow** | product of poly1d and afterglow | coefs, afterglowthresholds\n",
      "**inversepoly1dWafterglow** | product of inverse poly1d and afterglow | coefs, afterglowthresholds"
     ]
    },
    {
     "cell_type": "markdown",
     "metadata": {},
     "source": [
      "**Note** :\n",
      "\n",
      "The correction function is on the **single bunch instantaneous luminosity (SBIL)**. Its effect on the luminosity integrated over all orbits is calculated and applied automatically by the software based on the assumption that the bunches are euqually populated. "
     ]
    },
    {
     "cell_type": "markdown",
     "metadata": {},
     "source": [
      "<a id='briltaginsertiov'></a>\n",
      "##### insertiov\n",
      "To insert normtag data into database. Data to insert must be defined in an input file of yaml format and given to the -y option.\n",
      "<p>"
     ]
    },
    {
     "cell_type": "markdown",
     "metadata": {},
     "source": [
      "<div class=cmdlines>\n",
      "\n",
      "   <p>**-y YAMLFILE** : file defining calibration parameters and corresponding interval of validity. Example input yaml file shown below. Note: yaml format requires correct indentations with no tab char. You can use a <a href=\"http://codebeautify.org/yaml-to-json-xml-csv\">yaml validator</a> to validate the  input data before loading to database.\n",
      "   <pre>\n",
      "        name: pltzerov1\n",
      "        applyto: lumi\n",
      "        datasource: pltzero\n",
      "        istypedefault: 0\n",
      "        comments: from mini vdm\n",
      "        since:\n",
      "            - 246437:\n",
      "                func: poly1d\n",
      "                payload: {'coefs': '0.,0.'}\n",
      "                comments: 2015, egev 6500, PROTPHYS, uncalibrated\n",
      "            - 246908:\n",
      "                func: poly1d\n",
      "                payload: {'coefs': '21.7524,0.'}\n",
      "                comments: 2015, egev 6500, PROTPHYS, magnet off\n",
      "   </pre>\n",
      "</div>"
     ]
    },
    {
     "cell_type": "markdown",
     "metadata": {},
     "source": [
      "<a id='briltaglistdata'></a>\n",
      "##### listdata\n",
      "List all data tags\n",
      "<p>"
     ]
    },
    {
     "cell_type": "markdown",
     "metadata": {},
     "source": [
      "<a id='briltaginsertdata'></a>\n",
      "##### insertdata\n",
      "Creat a new data tag. lumi beam data are versioned, trigger data are not. The condition to open a new datatag is if there are old data under the most recent tag for the lumi sections to load (patch). Loading new data to the most recent tag does not require opening a new one. For example, if loading run=1,ls=1 to tag v1 would cause a duplicated id error, then you need to create a data tag v2. \n",
      "<p>"
     ]
    },
    {
     "cell_type": "markdown",
     "metadata": {},
     "source": [
      "###### \n",
      "<div class=cmdlines>\n",
      "\n",
      "   <p>**--name TAGNAME** : Name of the data tag. \n",
      "   \n",
      "   <p>**--comments COMMENTS** : Comments on the tag.\n",
      "   \n",
      "</div>"
     ]
    },
    {
     "cell_type": "markdown",
     "metadata": {},
     "source": [
      "<p style=\"text-align:center\">[Back to Top](#top)"
     ]
    },
    {
     "cell_type": "code",
     "collapsed": false,
     "input": [
      "from IPython.core.display import HTML\n",
      "def css_styling():\n",
      "    styles = open('./style/custom.css','r').read()\n",
      "    return HTML(styles)\n",
      "css_styling()"
     ],
     "language": "python",
     "metadata": {},
     "outputs": [
      {
       "html": [
        "<style>\n",
        "th {\n",
        "    background-color:#55FF33;\n",
        "}\n",
        "td {\n",
        "    background-color:#00FFFF;\n",
        "}\n",
        "div.cell{\n",
        "    width:800px;\n",
        "    margin-left:16% !important;\n",
        "    margin-right:auto;\n",
        "}\n",
        "div.warn {\n",
        "    background-color: #fcf2f2;\n",
        "    border-color: #dFb5b4;\n",
        "    border-left: 5px solid #dfb5b4;\n",
        "    padding: 0.5em;\n",
        "}\n",
        "div.cmdlines{\n",
        "    margin-bottom:1em; \n",
        "    margin-top: 1em; \n",
        "    margin-left: 3em; \n",
        "    padding: 0.5em;\n",
        "    color:#bc6916; \n",
        "    font-weight: 200; \n",
        "    font size: 9pt; \n",
        "    line-height 200%; \n",
        "    font-family: Monospace;\n",
        "    background-color:#ecf0f1;\n",
        "}\n",
        "h1 { \n",
        "    margin-bottom:1em;\n",
        "    margin-top: 1em;\n",
        "    font-family: Helvetica, serif;\n",
        "    color: #444; \n",
        "}\n",
        "h2 { \n",
        "    margin-bottom:1em;\n",
        "    margin-top:1em;\n",
        "    color: #444; \n",
        "}\n",
        "h4{\n",
        "    margin-top:1em;\n",
        "    margin-bottom:1em;\n",
        "    font-size:18pt;\n",
        "}\n",
        "div.text_cell_render{\n",
        "   font-family: \"Helvetica Neue\", Arial, Helvetica, Geneva, sans-serif;\n",
        "   line-height: 145%;\n",
        "   font-size: 100%;\n",
        "   width:800px;\n",
        "   margin-left:auto;\n",
        "   margin-right:auto;\n",
        "}\n",
        ".CodeMirror{\n",
        "    font-family: \"Source Code Pro\", source-code-pro, Consolas,monospace;\n",
        "    font-size: 9pt;\n",
        "    font-weight: 300;\n",
        "    color: #4057A1;\n",
        "    margin-bottom: .5em;\n",
        "    margin-top: 0.5em;\n",
        "}\n",
        ".prompt{\n",
        "    display: None;\n",
        "}\n",
        ".text_cell_render h5{\n",
        "    font-weight: 300;\n",
        "    font-size: 16pt;\n",
        "    color: #4057A1;\n",
        "    font-style: italic;\n",
        "    margin-bottom: .5em;\n",
        "    margin-top: 0.5em;\n",
        "    display: block;\n",
        "}\n",
        "\n",
        ".warning{\n",
        "    color: rgt(240, 20, 20)\n",
        "}\n",
        "\n",
        "div.mynavbar{\n",
        "    max-width: 50em;\n",
        "    margin: 0;\n",
        "    background: #000;\n",
        "    padding: 0;\n",
        "}\n",
        ".my-nav{\n",
        "    margin: 0;\n",
        "    padding: 0;\n",
        "    list-style: none;\n",
        "}\n",
        "\n",
        ".my-nav li{\n",
        "    display: inline;\n",
        "    margin: 0;\n",
        "    float: left;\n",
        "}\n",
        "\n",
        "a.my-nav:link, a.my-nav:visited { \n",
        "    display: block;\n",
        "    padding: .7em 1.2em;\n",
        "    font-weight: bold;\n",
        "    color: white; \n",
        "    background-color: #444;\n",
        "}\n",
        "a.my-nav:focus { color: black; background-color: white; }\n",
        "a.my-nav:hover { color: white; background-color: green; }\n",
        "a.my-nav:active { color: white: background-color: red; }\n",
        "\n",
        "</style>\n",
        "\n"
       ],
       "metadata": {},
       "output_type": "pyout",
       "prompt_number": 2,
       "text": [
        "<IPython.core.display.HTML at 0x105653850>"
       ]
      }
     ],
     "prompt_number": 2
    }
   ],
   "metadata": {}
  }
 ]
}