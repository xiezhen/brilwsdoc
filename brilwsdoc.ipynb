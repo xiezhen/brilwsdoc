{
 "metadata": {
  "name": "",
  "signature": "sha256:9b98a7b922eec1d94d9015b2bc99f70fdc543bdd1d7141cdf92fa648aaf5e165"
 },
 "nbformat": 3,
 "nbformat_minor": 0,
 "worksheets": [
  {
   "cells": [
    {
     "cell_type": "heading",
     "level": 1,
     "metadata": {},
     "source": [
      "BRIL worksuite"
     ]
    },
    {
     "cell_type": "markdown",
     "metadata": {},
     "source": [
      "A commandline toolkit for CMS Beam Radiation Instrumentation and Luminosity (BRIL). "
     ]
    },
    {
     "cell_type": "markdown",
     "metadata": {},
     "source": [
      "\n",
      "\n",
      "1.   [Installation](#installation)\n",
      "\n",
      "2.   [Command Structure](#cmdstructure)\n",
      "\n",
      "3.   [brilcalc](#brilcalc)\n",
      "\n",
      "    *   [lumi](#brilcalclumi)\n",
      "\n",
      "    *   [beam](#brilcalcbeam)\n",
      "     "
     ]
    },
    {
     "cell_type": "markdown",
     "metadata": {},
     "source": [
      "<a id='installation'></a>\n",
      "## Installation"
     ]
    },
    {
     "cell_type": "markdown",
     "metadata": {},
     "source": [
      "#### cern\n",
      "```\n",
      "pip install --index-url= brilws\n",
      "```"
     ]
    },
    {
     "cell_type": "markdown",
     "metadata": {},
     "source": [
      "#### online\n",
      "```\n",
      "pip install \n",
      "```"
     ]
    },
    {
     "cell_type": "markdown",
     "metadata": {},
     "source": [
      "#### "
     ]
    },
    {
     "cell_type": "markdown",
     "metadata": {},
     "source": [
      "<a id='commandstructure'></a>\n",
      "## Command Structure\n"
     ]
    },
    {
     "cell_type": "markdown",
     "metadata": {},
     "source": [
      "<a id='brilcalc'></a>\n",
      "## brilcalc"
     ]
    },
    {
     "cell_type": "markdown",
     "metadata": {},
     "source": [
      "<a id='brilcalclumi'></a>\n",
      "##### lumi"
     ]
    },
    {
     "cell_type": "markdown",
     "metadata": {},
     "source": [
      "<a id='brilcalcbeam'></a>\n",
      "##### beam"
     ]
    },
    {
     "cell_type": "markdown",
     "metadata": {},
     "source": [
      "<div class=warn>\n",
      "**Warning:** remember\n",
      "</div>"
     ]
    },
    {
     "cell_type": "code",
     "collapsed": false,
     "input": [
      "from IPython.core.display import HTML\n",
      "def css_styling():\n",
      "    styles = open('./style/custom.css','r').read()\n",
      "    return HTML(styles)\n",
      "css_styling()"
     ],
     "language": "python",
     "metadata": {},
     "outputs": [
      {
       "html": [
        "<style>\n",
        "th {\n",
        "    background-color:#55FF33;\n",
        "}\n",
        "td {\n",
        "    background-color:#00FFFF;\n",
        "}\n",
        "div.cell{\n",
        "    width:800px;\n",
        "    margin-left:16% !important;\n",
        "    margin-right:auto;\n",
        "}\n",
        "div.warn {\n",
        "    background-color: #fcf2f2;\n",
        "    border-color: #dFb5b4;\n",
        "    border-left: 5px solid #dfb5b4;\n",
        "    padding: 0.5em;\n",
        "}\n",
        "h1 { \n",
        "    cont-family: Helvetica, serif;\n",
        "    color: #444; \n",
        "}\n",
        "h2 { color: #444; }\n",
        "h4{\n",
        "    margin-top:12px;\n",
        "    margin-bottom:3px;\n",
        "}\n",
        "div.text_cell_render{\n",
        "   font-family: \"Helvetica Neue\", Arial, Helvetica, Geneva, sans-serif;\n",
        "   line-height: 145%;\n",
        "   font-size: 130%;\n",
        "   width:800px;\n",
        "   margin-left:auto;\n",
        "   margin-right:auto;\n",
        "}\n",
        ".CodeMirror{\n",
        "    font-family: \"Source Code Pro\", source-code-pro, Consolas,monospace;\n",
        "}\n",
        ".prompt{\n",
        "    display: None;\n",
        "}\n",
        ".text_cell_render h5{\n",
        "    font-weight: 300;\n",
        "    font-size: 16pt;\n",
        "    color: #4057A1;\n",
        "    font-style: italic;\n",
        "    margin-bottom: .5em;\n",
        "    margin-top: 0.5em;\n",
        "    display: block;\n",
        "}\n",
        "\n",
        ".warning{\n",
        "    color: rgt(240, 20, 20)\n",
        "}\n",
        "</style>\n"
       ],
       "metadata": {},
       "output_type": "pyout",
       "prompt_number": 8,
       "text": [
        "<IPython.core.display.HTML at 0x106b132d0>"
       ]
      }
     ],
     "prompt_number": 8
    },
    {
     "cell_type": "code",
     "collapsed": false,
     "input": [],
     "language": "python",
     "metadata": {},
     "outputs": []
    },
    {
     "cell_type": "code",
     "collapsed": false,
     "input": [],
     "language": "python",
     "metadata": {},
     "outputs": []
    }
   ],
   "metadata": {}
  }
 ]
}